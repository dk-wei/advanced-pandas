{
  "nbformat": 4,
  "nbformat_minor": 0,
  "metadata": {
    "colab": {
      "name": "25 Pandas TrIcks 冷门技巧.ipynb",
      "provenance": [],
      "collapsed_sections": [],
      "toc_visible": true,
      "authorship_tag": "ABX9TyPWdWktn+QIzYmQBGfYAETO",
      "include_colab_link": true
    },
    "kernelspec": {
      "name": "python3",
      "display_name": "Python 3"
    },
    "language_info": {
      "name": "python"
    }
  },
  "cells": [
    {
      "cell_type": "markdown",
      "metadata": {
        "id": "view-in-github",
        "colab_type": "text"
      },
      "source": [
        "<a href=\"https://colab.research.google.com/github/dk-wei/advanced-pandas/blob/main/25_Pandas_TrIcks_%E5%86%B7%E9%97%A8%E6%8A%80%E5%B7%A7.ipynb\" target=\"_parent\"><img src=\"https://colab.research.google.com/assets/colab-badge.svg\" alt=\"Open In Colab\"/></a>"
      ]
    },
    {
      "cell_type": "code",
      "metadata": {
        "colab": {
          "base_uri": "https://localhost:8080/"
        },
        "id": "XgpItO0DbXK3",
        "outputId": "1865676d-2275-4df6-c01c-1edcbf58a48a"
      },
      "source": [
        "pip install pycaret"
      ],
      "execution_count": 2,
      "outputs": [
        {
          "output_type": "stream",
          "text": [
            "Collecting pycaret\n",
            "  Downloading pycaret-2.3.3-py3-none-any.whl (264 kB)\n",
            "\u001b[?25l\r\u001b[K     |█▎                              | 10 kB 23.3 MB/s eta 0:00:01\r\u001b[K     |██▌                             | 20 kB 22.4 MB/s eta 0:00:01\r\u001b[K     |███▊                            | 30 kB 13.8 MB/s eta 0:00:01\r\u001b[K     |█████                           | 40 kB 9.6 MB/s eta 0:00:01\r\u001b[K     |██████▏                         | 51 kB 4.7 MB/s eta 0:00:01\r\u001b[K     |███████▍                        | 61 kB 5.2 MB/s eta 0:00:01\r\u001b[K     |████████▊                       | 71 kB 5.3 MB/s eta 0:00:01\r\u001b[K     |██████████                      | 81 kB 5.9 MB/s eta 0:00:01\r\u001b[K     |███████████▏                    | 92 kB 6.2 MB/s eta 0:00:01\r\u001b[K     |████████████▍                   | 102 kB 4.8 MB/s eta 0:00:01\r\u001b[K     |█████████████▋                  | 112 kB 4.8 MB/s eta 0:00:01\r\u001b[K     |██████████████▉                 | 122 kB 4.8 MB/s eta 0:00:01\r\u001b[K     |████████████████▏               | 133 kB 4.8 MB/s eta 0:00:01\r\u001b[K     |█████████████████▍              | 143 kB 4.8 MB/s eta 0:00:01\r\u001b[K     |██████████████████▋             | 153 kB 4.8 MB/s eta 0:00:01\r\u001b[K     |███████████████████▉            | 163 kB 4.8 MB/s eta 0:00:01\r\u001b[K     |█████████████████████           | 174 kB 4.8 MB/s eta 0:00:01\r\u001b[K     |██████████████████████▎         | 184 kB 4.8 MB/s eta 0:00:01\r\u001b[K     |███████████████████████▋        | 194 kB 4.8 MB/s eta 0:00:01\r\u001b[K     |████████████████████████▉       | 204 kB 4.8 MB/s eta 0:00:01\r\u001b[K     |██████████████████████████      | 215 kB 4.8 MB/s eta 0:00:01\r\u001b[K     |███████████████████████████▎    | 225 kB 4.8 MB/s eta 0:00:01\r\u001b[K     |████████████████████████████▌   | 235 kB 4.8 MB/s eta 0:00:01\r\u001b[K     |█████████████████████████████▊  | 245 kB 4.8 MB/s eta 0:00:01\r\u001b[K     |███████████████████████████████ | 256 kB 4.8 MB/s eta 0:00:01\r\u001b[K     |████████████████████████████████| 264 kB 4.8 MB/s \n",
            "\u001b[?25hRequirement already satisfied: spacy<2.4.0 in /usr/local/lib/python3.7/dist-packages (from pycaret) (2.2.4)\n",
            "Requirement already satisfied: IPython in /usr/local/lib/python3.7/dist-packages (from pycaret) (5.5.0)\n",
            "Requirement already satisfied: plotly>=4.4.1 in /usr/local/lib/python3.7/dist-packages (from pycaret) (4.4.1)\n",
            "Requirement already satisfied: ipywidgets in /usr/local/lib/python3.7/dist-packages (from pycaret) (7.6.3)\n",
            "Requirement already satisfied: pandas in /usr/local/lib/python3.7/dist-packages (from pycaret) (1.1.5)\n",
            "Collecting yellowbrick>=1.0.1\n",
            "  Downloading yellowbrick-1.3.post1-py3-none-any.whl (271 kB)\n",
            "\u001b[K     |████████████████████████████████| 271 kB 48.8 MB/s \n",
            "\u001b[?25hRequirement already satisfied: joblib in /usr/local/lib/python3.7/dist-packages (from pycaret) (1.0.1)\n",
            "Requirement already satisfied: nltk in /usr/local/lib/python3.7/dist-packages (from pycaret) (3.2.5)\n",
            "Collecting pyod\n",
            "  Downloading pyod-0.9.2.tar.gz (108 kB)\n",
            "\u001b[K     |████████████████████████████████| 108 kB 54.5 MB/s \n",
            "\u001b[?25hCollecting Boruta\n",
            "  Downloading Boruta-0.3-py3-none-any.whl (56 kB)\n",
            "\u001b[K     |████████████████████████████████| 56 kB 3.3 MB/s \n",
            "\u001b[?25hRequirement already satisfied: textblob in /usr/local/lib/python3.7/dist-packages (from pycaret) (0.15.3)\n",
            "Collecting kmodes>=0.10.1\n",
            "  Downloading kmodes-0.11.0-py2.py3-none-any.whl (18 kB)\n",
            "Collecting scikit-plot\n",
            "  Downloading scikit_plot-0.3.7-py3-none-any.whl (33 kB)\n",
            "Collecting imbalanced-learn==0.7.0\n",
            "  Downloading imbalanced_learn-0.7.0-py3-none-any.whl (167 kB)\n",
            "\u001b[K     |████████████████████████████████| 167 kB 35.7 MB/s \n",
            "\u001b[?25hCollecting umap-learn\n",
            "  Downloading umap-learn-0.5.1.tar.gz (80 kB)\n",
            "\u001b[K     |████████████████████████████████| 80 kB 8.5 MB/s \n",
            "\u001b[?25hRequirement already satisfied: scipy<=1.5.4 in /usr/local/lib/python3.7/dist-packages (from pycaret) (1.4.1)\n",
            "Requirement already satisfied: wordcloud in /usr/local/lib/python3.7/dist-packages (from pycaret) (1.5.0)\n",
            "Requirement already satisfied: matplotlib in /usr/local/lib/python3.7/dist-packages (from pycaret) (3.2.2)\n",
            "Requirement already satisfied: seaborn in /usr/local/lib/python3.7/dist-packages (from pycaret) (0.11.1)\n",
            "Collecting lightgbm>=2.3.1\n",
            "  Downloading lightgbm-3.2.1-py3-none-manylinux1_x86_64.whl (2.0 MB)\n",
            "\u001b[K     |████████████████████████████████| 2.0 MB 40.4 MB/s \n",
            "\u001b[?25hRequirement already satisfied: cufflinks>=0.17.0 in /usr/local/lib/python3.7/dist-packages (from pycaret) (0.17.3)\n",
            "Collecting pyLDAvis\n",
            "  Downloading pyLDAvis-3.3.1.tar.gz (1.7 MB)\n",
            "\u001b[K     |████████████████████████████████| 1.7 MB 41.7 MB/s \n",
            "\u001b[?25h  Installing build dependencies ... \u001b[?25l\u001b[?25hdone\n",
            "  Getting requirements to build wheel ... \u001b[?25l\u001b[?25hdone\n",
            "  Installing backend dependencies ... \u001b[?25l\u001b[?25hdone\n",
            "    Preparing wheel metadata ... \u001b[?25l\u001b[?25hdone\n",
            "Requirement already satisfied: gensim<4.0.0 in /usr/local/lib/python3.7/dist-packages (from pycaret) (3.6.0)\n",
            "Requirement already satisfied: numpy==1.19.5 in /usr/local/lib/python3.7/dist-packages (from pycaret) (1.19.5)\n",
            "Collecting mlxtend>=0.17.0\n",
            "  Downloading mlxtend-0.18.0-py2.py3-none-any.whl (1.3 MB)\n",
            "\u001b[K     |████████████████████████████████| 1.3 MB 33.7 MB/s \n",
            "\u001b[?25hCollecting mlflow\n",
            "  Downloading mlflow-1.19.0-py3-none-any.whl (14.4 MB)\n",
            "\u001b[K     |████████████████████████████████| 14.4 MB 60 kB/s \n",
            "\u001b[?25hCollecting pandas-profiling>=2.8.0\n",
            "  Downloading pandas_profiling-3.0.0-py2.py3-none-any.whl (248 kB)\n",
            "\u001b[K     |████████████████████████████████| 248 kB 49.7 MB/s \n",
            "\u001b[?25hCollecting scikit-learn==0.23.2\n",
            "  Downloading scikit_learn-0.23.2-cp37-cp37m-manylinux1_x86_64.whl (6.8 MB)\n",
            "\u001b[K     |████████████████████████████████| 6.8 MB 67.5 MB/s \n",
            "\u001b[?25hCollecting threadpoolctl>=2.0.0\n",
            "  Downloading threadpoolctl-2.2.0-py3-none-any.whl (12 kB)\n",
            "Requirement already satisfied: colorlover>=0.2.1 in /usr/local/lib/python3.7/dist-packages (from cufflinks>=0.17.0->pycaret) (0.3.0)\n",
            "Requirement already satisfied: setuptools>=34.4.1 in /usr/local/lib/python3.7/dist-packages (from cufflinks>=0.17.0->pycaret) (57.4.0)\n",
            "Requirement already satisfied: six>=1.9.0 in /usr/local/lib/python3.7/dist-packages (from cufflinks>=0.17.0->pycaret) (1.15.0)\n",
            "Requirement already satisfied: smart-open>=1.2.1 in /usr/local/lib/python3.7/dist-packages (from gensim<4.0.0->pycaret) (5.1.0)\n",
            "Requirement already satisfied: pexpect in /usr/local/lib/python3.7/dist-packages (from IPython->pycaret) (4.8.0)\n",
            "Requirement already satisfied: pickleshare in /usr/local/lib/python3.7/dist-packages (from IPython->pycaret) (0.7.5)\n",
            "Requirement already satisfied: simplegeneric>0.8 in /usr/local/lib/python3.7/dist-packages (from IPython->pycaret) (0.8.1)\n",
            "Requirement already satisfied: decorator in /usr/local/lib/python3.7/dist-packages (from IPython->pycaret) (4.4.2)\n",
            "Requirement already satisfied: pygments in /usr/local/lib/python3.7/dist-packages (from IPython->pycaret) (2.6.1)\n",
            "Requirement already satisfied: prompt-toolkit<2.0.0,>=1.0.4 in /usr/local/lib/python3.7/dist-packages (from IPython->pycaret) (1.0.18)\n",
            "Requirement already satisfied: traitlets>=4.2 in /usr/local/lib/python3.7/dist-packages (from IPython->pycaret) (5.0.5)\n",
            "Requirement already satisfied: jupyterlab-widgets>=1.0.0 in /usr/local/lib/python3.7/dist-packages (from ipywidgets->pycaret) (1.0.0)\n",
            "Requirement already satisfied: widgetsnbextension~=3.5.0 in /usr/local/lib/python3.7/dist-packages (from ipywidgets->pycaret) (3.5.1)\n",
            "Requirement already satisfied: nbformat>=4.2.0 in /usr/local/lib/python3.7/dist-packages (from ipywidgets->pycaret) (5.1.3)\n",
            "Requirement already satisfied: ipykernel>=4.5.1 in /usr/local/lib/python3.7/dist-packages (from ipywidgets->pycaret) (4.10.1)\n",
            "Requirement already satisfied: tornado>=4.0 in /usr/local/lib/python3.7/dist-packages (from ipykernel>=4.5.1->ipywidgets->pycaret) (5.1.1)\n",
            "Requirement already satisfied: jupyter-client in /usr/local/lib/python3.7/dist-packages (from ipykernel>=4.5.1->ipywidgets->pycaret) (5.3.5)\n",
            "Requirement already satisfied: wheel in /usr/local/lib/python3.7/dist-packages (from lightgbm>=2.3.1->pycaret) (0.37.0)\n",
            "Requirement already satisfied: python-dateutil>=2.1 in /usr/local/lib/python3.7/dist-packages (from matplotlib->pycaret) (2.8.2)\n",
            "Requirement already satisfied: pyparsing!=2.0.4,!=2.1.2,!=2.1.6,>=2.0.1 in /usr/local/lib/python3.7/dist-packages (from matplotlib->pycaret) (2.4.7)\n",
            "Requirement already satisfied: cycler>=0.10 in /usr/local/lib/python3.7/dist-packages (from matplotlib->pycaret) (0.10.0)\n",
            "Requirement already satisfied: kiwisolver>=1.0.1 in /usr/local/lib/python3.7/dist-packages (from matplotlib->pycaret) (1.3.1)\n",
            "Requirement already satisfied: jupyter-core in /usr/local/lib/python3.7/dist-packages (from nbformat>=4.2.0->ipywidgets->pycaret) (4.7.1)\n",
            "Requirement already satisfied: ipython-genutils in /usr/local/lib/python3.7/dist-packages (from nbformat>=4.2.0->ipywidgets->pycaret) (0.2.0)\n",
            "Requirement already satisfied: jsonschema!=2.5.0,>=2.4 in /usr/local/lib/python3.7/dist-packages (from nbformat>=4.2.0->ipywidgets->pycaret) (2.6.0)\n",
            "Requirement already satisfied: pytz>=2017.2 in /usr/local/lib/python3.7/dist-packages (from pandas->pycaret) (2018.9)\n",
            "Requirement already satisfied: jinja2>=2.11.1 in /usr/local/lib/python3.7/dist-packages (from pandas-profiling>=2.8.0->pycaret) (2.11.3)\n",
            "Collecting tangled-up-in-unicode==0.1.0\n",
            "  Downloading tangled_up_in_unicode-0.1.0-py3-none-any.whl (3.1 MB)\n",
            "\u001b[K     |████████████████████████████████| 3.1 MB 48.5 MB/s \n",
            "\u001b[?25hCollecting PyYAML>=5.0.0\n",
            "  Downloading PyYAML-5.4.1-cp37-cp37m-manylinux1_x86_64.whl (636 kB)\n",
            "\u001b[K     |████████████████████████████████| 636 kB 52.1 MB/s \n",
            "\u001b[?25hCollecting visions[type_image_path]==0.7.1\n",
            "  Downloading visions-0.7.1-py3-none-any.whl (102 kB)\n",
            "\u001b[K     |████████████████████████████████| 102 kB 67.4 MB/s \n",
            "\u001b[?25hRequirement already satisfied: missingno>=0.4.2 in /usr/local/lib/python3.7/dist-packages (from pandas-profiling>=2.8.0->pycaret) (0.5.0)\n",
            "Collecting phik>=0.11.1\n",
            "  Downloading phik-0.12.0-cp37-cp37m-manylinux2010_x86_64.whl (675 kB)\n",
            "\u001b[K     |████████████████████████████████| 675 kB 38.2 MB/s \n",
            "\u001b[?25hCollecting pydantic>=1.8.1\n",
            "  Downloading pydantic-1.8.2-cp37-cp37m-manylinux2014_x86_64.whl (10.1 MB)\n",
            "\u001b[K     |████████████████████████████████| 10.1 MB 12.7 MB/s \n",
            "\u001b[?25hCollecting requests>=2.24.0\n",
            "  Downloading requests-2.26.0-py2.py3-none-any.whl (62 kB)\n",
            "\u001b[K     |████████████████████████████████| 62 kB 665 kB/s \n",
            "\u001b[?25hRequirement already satisfied: tqdm>=4.48.2 in /usr/local/lib/python3.7/dist-packages (from pandas-profiling>=2.8.0->pycaret) (4.62.0)\n",
            "Collecting htmlmin>=0.1.12\n",
            "  Downloading htmlmin-0.1.12.tar.gz (19 kB)\n",
            "Requirement already satisfied: networkx>=2.4 in /usr/local/lib/python3.7/dist-packages (from visions[type_image_path]==0.7.1->pandas-profiling>=2.8.0->pycaret) (2.6.2)\n",
            "Requirement already satisfied: bottleneck in /usr/local/lib/python3.7/dist-packages (from visions[type_image_path]==0.7.1->pandas-profiling>=2.8.0->pycaret) (1.3.2)\n",
            "Collecting multimethod==1.4\n",
            "  Downloading multimethod-1.4-py2.py3-none-any.whl (7.3 kB)\n",
            "Requirement already satisfied: attrs>=19.3.0 in /usr/local/lib/python3.7/dist-packages (from visions[type_image_path]==0.7.1->pandas-profiling>=2.8.0->pycaret) (21.2.0)\n",
            "Collecting imagehash\n",
            "  Downloading ImageHash-4.2.1.tar.gz (812 kB)\n",
            "\u001b[K     |████████████████████████████████| 812 kB 51.0 MB/s \n",
            "\u001b[?25hRequirement already satisfied: Pillow in /usr/local/lib/python3.7/dist-packages (from visions[type_image_path]==0.7.1->pandas-profiling>=2.8.0->pycaret) (7.1.2)\n",
            "Requirement already satisfied: MarkupSafe>=0.23 in /usr/local/lib/python3.7/dist-packages (from jinja2>=2.11.1->pandas-profiling>=2.8.0->pycaret) (2.0.1)\n",
            "Collecting scipy<=1.5.4\n",
            "  Downloading scipy-1.5.4-cp37-cp37m-manylinux1_x86_64.whl (25.9 MB)\n",
            "\u001b[K     |████████████████████████████████| 25.9 MB 956 bytes/s \n",
            "\u001b[?25hRequirement already satisfied: retrying>=1.3.3 in /usr/local/lib/python3.7/dist-packages (from plotly>=4.4.1->pycaret) (1.3.3)\n",
            "Requirement already satisfied: wcwidth in /usr/local/lib/python3.7/dist-packages (from prompt-toolkit<2.0.0,>=1.0.4->IPython->pycaret) (0.2.5)\n",
            "Requirement already satisfied: typing-extensions>=3.7.4.3 in /usr/local/lib/python3.7/dist-packages (from pydantic>=1.8.1->pandas-profiling>=2.8.0->pycaret) (3.7.4.3)\n",
            "Requirement already satisfied: certifi>=2017.4.17 in /usr/local/lib/python3.7/dist-packages (from requests>=2.24.0->pandas-profiling>=2.8.0->pycaret) (2021.5.30)\n",
            "Requirement already satisfied: urllib3<1.27,>=1.21.1 in /usr/local/lib/python3.7/dist-packages (from requests>=2.24.0->pandas-profiling>=2.8.0->pycaret) (1.24.3)\n",
            "Requirement already satisfied: idna<4,>=2.5 in /usr/local/lib/python3.7/dist-packages (from requests>=2.24.0->pandas-profiling>=2.8.0->pycaret) (2.10)\n",
            "Requirement already satisfied: charset-normalizer~=2.0.0 in /usr/local/lib/python3.7/dist-packages (from requests>=2.24.0->pandas-profiling>=2.8.0->pycaret) (2.0.4)\n",
            "Requirement already satisfied: blis<0.5.0,>=0.4.0 in /usr/local/lib/python3.7/dist-packages (from spacy<2.4.0->pycaret) (0.4.1)\n",
            "Requirement already satisfied: thinc==7.4.0 in /usr/local/lib/python3.7/dist-packages (from spacy<2.4.0->pycaret) (7.4.0)\n",
            "Requirement already satisfied: catalogue<1.1.0,>=0.0.7 in /usr/local/lib/python3.7/dist-packages (from spacy<2.4.0->pycaret) (1.0.0)\n",
            "Requirement already satisfied: preshed<3.1.0,>=3.0.2 in /usr/local/lib/python3.7/dist-packages (from spacy<2.4.0->pycaret) (3.0.5)\n",
            "Requirement already satisfied: cymem<2.1.0,>=2.0.2 in /usr/local/lib/python3.7/dist-packages (from spacy<2.4.0->pycaret) (2.0.5)\n",
            "Requirement already satisfied: srsly<1.1.0,>=1.0.2 in /usr/local/lib/python3.7/dist-packages (from spacy<2.4.0->pycaret) (1.0.5)\n",
            "Requirement already satisfied: plac<1.2.0,>=0.9.6 in /usr/local/lib/python3.7/dist-packages (from spacy<2.4.0->pycaret) (1.1.3)\n",
            "Requirement already satisfied: murmurhash<1.1.0,>=0.28.0 in /usr/local/lib/python3.7/dist-packages (from spacy<2.4.0->pycaret) (1.0.5)\n",
            "Requirement already satisfied: wasabi<1.1.0,>=0.4.0 in /usr/local/lib/python3.7/dist-packages (from spacy<2.4.0->pycaret) (0.8.2)\n",
            "Requirement already satisfied: importlib-metadata>=0.20 in /usr/local/lib/python3.7/dist-packages (from catalogue<1.1.0,>=0.0.7->spacy<2.4.0->pycaret) (4.6.3)\n",
            "Requirement already satisfied: zipp>=0.5 in /usr/local/lib/python3.7/dist-packages (from importlib-metadata>=0.20->catalogue<1.1.0,>=0.0.7->spacy<2.4.0->pycaret) (3.5.0)\n",
            "Requirement already satisfied: notebook>=4.4.1 in /usr/local/lib/python3.7/dist-packages (from widgetsnbextension~=3.5.0->ipywidgets->pycaret) (5.3.1)\n",
            "Requirement already satisfied: nbconvert in /usr/local/lib/python3.7/dist-packages (from notebook>=4.4.1->widgetsnbextension~=3.5.0->ipywidgets->pycaret) (5.6.1)\n",
            "Requirement already satisfied: terminado>=0.8.1 in /usr/local/lib/python3.7/dist-packages (from notebook>=4.4.1->widgetsnbextension~=3.5.0->ipywidgets->pycaret) (0.10.1)\n",
            "Requirement already satisfied: Send2Trash in /usr/local/lib/python3.7/dist-packages (from notebook>=4.4.1->widgetsnbextension~=3.5.0->ipywidgets->pycaret) (1.8.0)\n",
            "Requirement already satisfied: pyzmq>=13 in /usr/local/lib/python3.7/dist-packages (from jupyter-client->ipykernel>=4.5.1->ipywidgets->pycaret) (22.2.1)\n",
            "Requirement already satisfied: ptyprocess in /usr/local/lib/python3.7/dist-packages (from terminado>=0.8.1->notebook>=4.4.1->widgetsnbextension~=3.5.0->ipywidgets->pycaret) (0.7.0)\n",
            "Requirement already satisfied: PyWavelets in /usr/local/lib/python3.7/dist-packages (from imagehash->visions[type_image_path]==0.7.1->pandas-profiling>=2.8.0->pycaret) (1.1.1)\n",
            "Requirement already satisfied: entrypoints in /usr/local/lib/python3.7/dist-packages (from mlflow->pycaret) (0.3)\n",
            "Requirement already satisfied: packaging in /usr/local/lib/python3.7/dist-packages (from mlflow->pycaret) (21.0)\n",
            "Requirement already satisfied: sqlalchemy in /usr/local/lib/python3.7/dist-packages (from mlflow->pycaret) (1.4.22)\n",
            "Requirement already satisfied: click>=7.0 in /usr/local/lib/python3.7/dist-packages (from mlflow->pycaret) (7.1.2)\n",
            "Collecting gunicorn\n",
            "  Downloading gunicorn-20.1.0-py3-none-any.whl (79 kB)\n",
            "\u001b[K     |████████████████████████████████| 79 kB 6.1 MB/s \n",
            "\u001b[?25hRequirement already satisfied: cloudpickle in /usr/local/lib/python3.7/dist-packages (from mlflow->pycaret) (1.3.0)\n",
            "Requirement already satisfied: Flask in /usr/local/lib/python3.7/dist-packages (from mlflow->pycaret) (1.1.4)\n",
            "Collecting gitpython>=2.1.0\n",
            "  Downloading GitPython-3.1.18-py3-none-any.whl (170 kB)\n",
            "\u001b[K     |████████████████████████████████| 170 kB 55.3 MB/s \n",
            "\u001b[?25hCollecting prometheus-flask-exporter\n",
            "  Downloading prometheus_flask_exporter-0.18.2.tar.gz (22 kB)\n",
            "Requirement already satisfied: sqlparse>=0.3.1 in /usr/local/lib/python3.7/dist-packages (from mlflow->pycaret) (0.4.1)\n",
            "Collecting querystring-parser\n",
            "  Downloading querystring_parser-1.2.4-py2.py3-none-any.whl (7.9 kB)\n",
            "Collecting alembic<=1.4.1\n",
            "  Downloading alembic-1.4.1.tar.gz (1.1 MB)\n",
            "\u001b[K     |████████████████████████████████| 1.1 MB 53.1 MB/s \n",
            "\u001b[?25hRequirement already satisfied: protobuf>=3.7.0 in /usr/local/lib/python3.7/dist-packages (from mlflow->pycaret) (3.17.3)\n",
            "Collecting docker>=4.0.0\n",
            "  Downloading docker-5.0.0-py2.py3-none-any.whl (146 kB)\n",
            "\u001b[K     |████████████████████████████████| 146 kB 53.8 MB/s \n",
            "\u001b[?25hCollecting databricks-cli>=0.8.7\n",
            "  Downloading databricks-cli-0.15.0.tar.gz (56 kB)\n",
            "\u001b[K     |████████████████████████████████| 56 kB 4.2 MB/s \n",
            "\u001b[?25hCollecting Mako\n",
            "  Downloading Mako-1.1.4-py2.py3-none-any.whl (75 kB)\n",
            "\u001b[K     |████████████████████████████████| 75 kB 4.0 MB/s \n",
            "\u001b[?25hCollecting python-editor>=0.3\n",
            "  Downloading python_editor-1.0.4-py3-none-any.whl (4.9 kB)\n",
            "Requirement already satisfied: tabulate>=0.7.7 in /usr/local/lib/python3.7/dist-packages (from databricks-cli>=0.8.7->mlflow->pycaret) (0.8.9)\n",
            "Collecting websocket-client>=0.32.0\n",
            "  Downloading websocket_client-1.2.1-py2.py3-none-any.whl (52 kB)\n",
            "\u001b[K     |████████████████████████████████| 52 kB 1.1 MB/s \n",
            "\u001b[?25hCollecting gitdb<5,>=4.0.1\n",
            "  Downloading gitdb-4.0.7-py3-none-any.whl (63 kB)\n",
            "\u001b[K     |████████████████████████████████| 63 kB 1.5 MB/s \n",
            "\u001b[?25hCollecting smmap<5,>=3.0.1\n",
            "  Downloading smmap-4.0.0-py2.py3-none-any.whl (24 kB)\n",
            "Requirement already satisfied: greenlet!=0.4.17 in /usr/local/lib/python3.7/dist-packages (from sqlalchemy->mlflow->pycaret) (1.1.1)\n",
            "Requirement already satisfied: Werkzeug<2.0,>=0.15 in /usr/local/lib/python3.7/dist-packages (from Flask->mlflow->pycaret) (1.0.1)\n",
            "Requirement already satisfied: itsdangerous<2.0,>=0.24 in /usr/local/lib/python3.7/dist-packages (from Flask->mlflow->pycaret) (1.1.0)\n",
            "Requirement already satisfied: testpath in /usr/local/lib/python3.7/dist-packages (from nbconvert->notebook>=4.4.1->widgetsnbextension~=3.5.0->ipywidgets->pycaret) (0.5.0)\n",
            "Requirement already satisfied: bleach in /usr/local/lib/python3.7/dist-packages (from nbconvert->notebook>=4.4.1->widgetsnbextension~=3.5.0->ipywidgets->pycaret) (4.0.0)\n",
            "Requirement already satisfied: defusedxml in /usr/local/lib/python3.7/dist-packages (from nbconvert->notebook>=4.4.1->widgetsnbextension~=3.5.0->ipywidgets->pycaret) (0.7.1)\n",
            "Requirement already satisfied: mistune<2,>=0.8.1 in /usr/local/lib/python3.7/dist-packages (from nbconvert->notebook>=4.4.1->widgetsnbextension~=3.5.0->ipywidgets->pycaret) (0.8.4)\n",
            "Requirement already satisfied: pandocfilters>=1.4.1 in /usr/local/lib/python3.7/dist-packages (from nbconvert->notebook>=4.4.1->widgetsnbextension~=3.5.0->ipywidgets->pycaret) (1.4.3)\n",
            "Requirement already satisfied: webencodings in /usr/local/lib/python3.7/dist-packages (from bleach->nbconvert->notebook>=4.4.1->widgetsnbextension~=3.5.0->ipywidgets->pycaret) (0.5.1)\n",
            "Requirement already satisfied: prometheus_client in /usr/local/lib/python3.7/dist-packages (from prometheus-flask-exporter->mlflow->pycaret) (0.11.0)\n",
            "Requirement already satisfied: sklearn in /usr/local/lib/python3.7/dist-packages (from pyLDAvis->pycaret) (0.0)\n",
            "Collecting pyLDAvis\n",
            "  Downloading pyLDAvis-3.3.0.tar.gz (1.7 MB)\n",
            "\u001b[K     |████████████████████████████████| 1.7 MB 37.0 MB/s \n",
            "\u001b[?25h  Installing build dependencies ... \u001b[?25l\u001b[?25hdone\n",
            "  Getting requirements to build wheel ... \u001b[?25l\u001b[?25hdone\n",
            "  Installing backend dependencies ... \u001b[?25l\u001b[?25hdone\n",
            "    Preparing wheel metadata ... \u001b[?25l\u001b[?25hdone\n",
            "  Downloading pyLDAvis-3.2.2.tar.gz (1.7 MB)\n",
            "\u001b[K     |████████████████████████████████| 1.7 MB 51.0 MB/s \n",
            "\u001b[?25hRequirement already satisfied: numexpr in /usr/local/lib/python3.7/dist-packages (from pyLDAvis->pycaret) (2.7.3)\n",
            "Requirement already satisfied: future in /usr/local/lib/python3.7/dist-packages (from pyLDAvis->pycaret) (0.16.0)\n",
            "Collecting funcy\n",
            "  Downloading funcy-1.16-py2.py3-none-any.whl (32 kB)\n",
            "Requirement already satisfied: numba>=0.35 in /usr/local/lib/python3.7/dist-packages (from pyod->pycaret) (0.51.2)\n",
            "Requirement already satisfied: statsmodels in /usr/local/lib/python3.7/dist-packages (from pyod->pycaret) (0.10.2)\n",
            "Requirement already satisfied: llvmlite<0.35,>=0.34.0.dev0 in /usr/local/lib/python3.7/dist-packages (from numba>=0.35->pyod->pycaret) (0.34.0)\n",
            "Requirement already satisfied: patsy>=0.4.0 in /usr/local/lib/python3.7/dist-packages (from statsmodels->pyod->pycaret) (0.5.1)\n",
            "Collecting pynndescent>=0.5\n",
            "  Downloading pynndescent-0.5.4.tar.gz (1.1 MB)\n",
            "\u001b[K     |████████████████████████████████| 1.1 MB 51.7 MB/s \n",
            "\u001b[?25hBuilding wheels for collected packages: htmlmin, imagehash, alembic, databricks-cli, prometheus-flask-exporter, pyLDAvis, pyod, umap-learn, pynndescent\n",
            "  Building wheel for htmlmin (setup.py) ... \u001b[?25l\u001b[?25hdone\n",
            "  Created wheel for htmlmin: filename=htmlmin-0.1.12-py3-none-any.whl size=27098 sha256=48d76f86b552a25818c969c0189626f2b4ffb66878eaefccc31ad09316945b5b\n",
            "  Stored in directory: /root/.cache/pip/wheels/70/e1/52/5b14d250ba868768823940c3229e9950d201a26d0bd3ee8655\n",
            "  Building wheel for imagehash (setup.py) ... \u001b[?25l\u001b[?25hdone\n",
            "  Created wheel for imagehash: filename=ImageHash-4.2.1-py2.py3-none-any.whl size=295207 sha256=82c2e430737cc3b7faf742367bec8c5ea2de18a7a6dbbe53bb6f22dc8ebe2620\n",
            "  Stored in directory: /root/.cache/pip/wheels/4c/d5/59/5e3e297533ddb09407769762985d134135064c6831e29a914e\n",
            "  Building wheel for alembic (setup.py) ... \u001b[?25l\u001b[?25hdone\n",
            "  Created wheel for alembic: filename=alembic-1.4.1-py2.py3-none-any.whl size=158172 sha256=1b51837dce2e9551697e3d75e7c9a1c69b7e66b709f6bd768eaf0dcd742e7a3b\n",
            "  Stored in directory: /root/.cache/pip/wheels/be/5d/0a/9e13f53f4f5dfb67cd8d245bb7cdffe12f135846f491a283e3\n",
            "  Building wheel for databricks-cli (setup.py) ... \u001b[?25l\u001b[?25hdone\n",
            "  Created wheel for databricks-cli: filename=databricks_cli-0.15.0-py3-none-any.whl size=105260 sha256=7e36eb752e6193fecf96bcbaf98d77f2b86eda98fb797be96d9f16bf4e480b87\n",
            "  Stored in directory: /root/.cache/pip/wheels/e7/ba/75/284f9a90ff7a010bb23b9798f2e9a19dd9fe619379c917bff4\n",
            "  Building wheel for prometheus-flask-exporter (setup.py) ... \u001b[?25l\u001b[?25hdone\n",
            "  Created wheel for prometheus-flask-exporter: filename=prometheus_flask_exporter-0.18.2-py3-none-any.whl size=17415 sha256=2d4c5e01780ad56a0829a9311c4b0d822ab17d381550fd7094b33d91fffac29d\n",
            "  Stored in directory: /root/.cache/pip/wheels/6a/1e/1c/c765920cb92b2f0343d2dd8b481a407cee2823f9b4bbd2e52a\n",
            "  Building wheel for pyLDAvis (setup.py) ... \u001b[?25l\u001b[?25hdone\n",
            "  Created wheel for pyLDAvis: filename=pyLDAvis-3.2.2-py2.py3-none-any.whl size=135618 sha256=aa5a2a0bf174527834bb226ba716870b77163dd7199c43ea3eb9294654e68cdc\n",
            "  Stored in directory: /root/.cache/pip/wheels/f8/b1/9b/560ac1931796b7303f7b517b949d2d31a4fbc512aad3b9f284\n",
            "  Building wheel for pyod (setup.py) ... \u001b[?25l\u001b[?25hdone\n",
            "  Created wheel for pyod: filename=pyod-0.9.2-py3-none-any.whl size=127179 sha256=aa9eab172e16be38b4200c4ccf9744dc5787862486160549f8c0cdc8a08605c1\n",
            "  Stored in directory: /root/.cache/pip/wheels/20/c3/80/4fc108b509b7221a0043444eee23fe54c8c5f5a29ba1ccaa14\n",
            "  Building wheel for umap-learn (setup.py) ... \u001b[?25l\u001b[?25hdone\n",
            "  Created wheel for umap-learn: filename=umap_learn-0.5.1-py3-none-any.whl size=76564 sha256=ec28915a56875b38df4a7c6c69de2704b0ca290437dd7183b0cdb8e3915b658c\n",
            "  Stored in directory: /root/.cache/pip/wheels/01/e7/bb/347dc0e510803d7116a13d592b10cc68262da56a8eec4dd72f\n",
            "  Building wheel for pynndescent (setup.py) ... \u001b[?25l\u001b[?25hdone\n",
            "  Created wheel for pynndescent: filename=pynndescent-0.5.4-py3-none-any.whl size=52373 sha256=c5436e4095b8993318a08b24ad710b01e1c1ad081c6029299144ce647dc7bb58\n",
            "  Stored in directory: /root/.cache/pip/wheels/d0/5b/62/3401692ddad12324249c774c4b15ccb046946021e2b581c043\n",
            "Successfully built htmlmin imagehash alembic databricks-cli prometheus-flask-exporter pyLDAvis pyod umap-learn pynndescent\n",
            "Installing collected packages: threadpoolctl, tangled-up-in-unicode, smmap, scipy, multimethod, websocket-client, visions, scikit-learn, requests, python-editor, Mako, imagehash, gitdb, querystring-parser, PyYAML, pynndescent, pydantic, prometheus-flask-exporter, phik, htmlmin, gunicorn, gitpython, funcy, docker, databricks-cli, alembic, yellowbrick, umap-learn, scikit-plot, pyod, pyLDAvis, pandas-profiling, mlxtend, mlflow, lightgbm, kmodes, imbalanced-learn, Boruta, pycaret\n",
            "  Attempting uninstall: scipy\n",
            "    Found existing installation: scipy 1.4.1\n",
            "    Uninstalling scipy-1.4.1:\n",
            "      Successfully uninstalled scipy-1.4.1\n",
            "  Attempting uninstall: scikit-learn\n",
            "    Found existing installation: scikit-learn 0.22.2.post1\n",
            "    Uninstalling scikit-learn-0.22.2.post1:\n",
            "      Successfully uninstalled scikit-learn-0.22.2.post1\n",
            "  Attempting uninstall: requests\n",
            "    Found existing installation: requests 2.23.0\n",
            "    Uninstalling requests-2.23.0:\n",
            "      Successfully uninstalled requests-2.23.0\n",
            "  Attempting uninstall: PyYAML\n",
            "    Found existing installation: PyYAML 3.13\n",
            "    Uninstalling PyYAML-3.13:\n",
            "      Successfully uninstalled PyYAML-3.13\n",
            "  Attempting uninstall: yellowbrick\n",
            "    Found existing installation: yellowbrick 0.9.1\n",
            "    Uninstalling yellowbrick-0.9.1:\n",
            "      Successfully uninstalled yellowbrick-0.9.1\n",
            "  Attempting uninstall: pandas-profiling\n",
            "    Found existing installation: pandas-profiling 1.4.1\n",
            "    Uninstalling pandas-profiling-1.4.1:\n",
            "      Successfully uninstalled pandas-profiling-1.4.1\n",
            "  Attempting uninstall: mlxtend\n",
            "    Found existing installation: mlxtend 0.14.0\n",
            "    Uninstalling mlxtend-0.14.0:\n",
            "      Successfully uninstalled mlxtend-0.14.0\n",
            "  Attempting uninstall: lightgbm\n",
            "    Found existing installation: lightgbm 2.2.3\n",
            "    Uninstalling lightgbm-2.2.3:\n",
            "      Successfully uninstalled lightgbm-2.2.3\n",
            "  Attempting uninstall: imbalanced-learn\n",
            "    Found existing installation: imbalanced-learn 0.4.3\n",
            "    Uninstalling imbalanced-learn-0.4.3:\n",
            "      Successfully uninstalled imbalanced-learn-0.4.3\n",
            "\u001b[31mERROR: pip's dependency resolver does not currently take into account all the packages that are installed. This behaviour is the source of the following dependency conflicts.\n",
            "google-colab 1.0.0 requires requests~=2.23.0, but you have requests 2.26.0 which is incompatible.\n",
            "datascience 0.10.6 requires folium==0.2.1, but you have folium 0.8.3 which is incompatible.\n",
            "albumentations 0.1.12 requires imgaug<0.2.7,>=0.2.5, but you have imgaug 0.2.9 which is incompatible.\u001b[0m\n",
            "Successfully installed Boruta-0.3 Mako-1.1.4 PyYAML-5.4.1 alembic-1.4.1 databricks-cli-0.15.0 docker-5.0.0 funcy-1.16 gitdb-4.0.7 gitpython-3.1.18 gunicorn-20.1.0 htmlmin-0.1.12 imagehash-4.2.1 imbalanced-learn-0.7.0 kmodes-0.11.0 lightgbm-3.2.1 mlflow-1.19.0 mlxtend-0.18.0 multimethod-1.4 pandas-profiling-3.0.0 phik-0.12.0 prometheus-flask-exporter-0.18.2 pyLDAvis-3.2.2 pycaret-2.3.3 pydantic-1.8.2 pynndescent-0.5.4 pyod-0.9.2 python-editor-1.0.4 querystring-parser-1.2.4 requests-2.26.0 scikit-learn-0.23.2 scikit-plot-0.3.7 scipy-1.5.4 smmap-4.0.0 tangled-up-in-unicode-0.1.0 threadpoolctl-2.2.0 umap-learn-0.5.1 visions-0.7.1 websocket-client-1.2.1 yellowbrick-1.3.post1\n"
          ],
          "name": "stdout"
        }
      ]
    },
    {
      "cell_type": "code",
      "metadata": {
        "id": "I1BUPVt-Cjnc"
      },
      "source": [
        "import seaborn as sns\n",
        "import pandas as pd\n",
        "import numpy as np\n",
        "from pycaret.datasets import get_data"
      ],
      "execution_count": 36,
      "outputs": []
    },
    {
      "cell_type": "code",
      "metadata": {
        "colab": {
          "base_uri": "https://localhost:8080/",
          "height": 272
        },
        "id": "aFtdQFFfEKFP",
        "outputId": "645be3f9-d224-4cef-953e-a5d5c375f4ae"
      },
      "source": [
        "# Load two datasets\n",
        "diamonds = sns.load_dataset(\"diamonds\")\n",
        "diabetes = get_data('diabetes')\n",
        "tips = sns.load_dataset(\"tips\")"
      ],
      "execution_count": 4,
      "outputs": [
        {
          "output_type": "display_data",
          "data": {
            "text/html": [
              "<div>\n",
              "<style scoped>\n",
              "    .dataframe tbody tr th:only-of-type {\n",
              "        vertical-align: middle;\n",
              "    }\n",
              "\n",
              "    .dataframe tbody tr th {\n",
              "        vertical-align: top;\n",
              "    }\n",
              "\n",
              "    .dataframe thead th {\n",
              "        text-align: right;\n",
              "    }\n",
              "</style>\n",
              "<table border=\"1\" class=\"dataframe\">\n",
              "  <thead>\n",
              "    <tr style=\"text-align: right;\">\n",
              "      <th></th>\n",
              "      <th>Number of times pregnant</th>\n",
              "      <th>Plasma glucose concentration a 2 hours in an oral glucose tolerance test</th>\n",
              "      <th>Diastolic blood pressure (mm Hg)</th>\n",
              "      <th>Triceps skin fold thickness (mm)</th>\n",
              "      <th>2-Hour serum insulin (mu U/ml)</th>\n",
              "      <th>Body mass index (weight in kg/(height in m)^2)</th>\n",
              "      <th>Diabetes pedigree function</th>\n",
              "      <th>Age (years)</th>\n",
              "      <th>Class variable</th>\n",
              "    </tr>\n",
              "  </thead>\n",
              "  <tbody>\n",
              "    <tr>\n",
              "      <th>0</th>\n",
              "      <td>6</td>\n",
              "      <td>148</td>\n",
              "      <td>72</td>\n",
              "      <td>35</td>\n",
              "      <td>0</td>\n",
              "      <td>33.6</td>\n",
              "      <td>0.627</td>\n",
              "      <td>50</td>\n",
              "      <td>1</td>\n",
              "    </tr>\n",
              "    <tr>\n",
              "      <th>1</th>\n",
              "      <td>1</td>\n",
              "      <td>85</td>\n",
              "      <td>66</td>\n",
              "      <td>29</td>\n",
              "      <td>0</td>\n",
              "      <td>26.6</td>\n",
              "      <td>0.351</td>\n",
              "      <td>31</td>\n",
              "      <td>0</td>\n",
              "    </tr>\n",
              "    <tr>\n",
              "      <th>2</th>\n",
              "      <td>8</td>\n",
              "      <td>183</td>\n",
              "      <td>64</td>\n",
              "      <td>0</td>\n",
              "      <td>0</td>\n",
              "      <td>23.3</td>\n",
              "      <td>0.672</td>\n",
              "      <td>32</td>\n",
              "      <td>1</td>\n",
              "    </tr>\n",
              "    <tr>\n",
              "      <th>3</th>\n",
              "      <td>1</td>\n",
              "      <td>89</td>\n",
              "      <td>66</td>\n",
              "      <td>23</td>\n",
              "      <td>94</td>\n",
              "      <td>28.1</td>\n",
              "      <td>0.167</td>\n",
              "      <td>21</td>\n",
              "      <td>0</td>\n",
              "    </tr>\n",
              "    <tr>\n",
              "      <th>4</th>\n",
              "      <td>0</td>\n",
              "      <td>137</td>\n",
              "      <td>40</td>\n",
              "      <td>35</td>\n",
              "      <td>168</td>\n",
              "      <td>43.1</td>\n",
              "      <td>2.288</td>\n",
              "      <td>33</td>\n",
              "      <td>1</td>\n",
              "    </tr>\n",
              "  </tbody>\n",
              "</table>\n",
              "</div>"
            ],
            "text/plain": [
              "   Number of times pregnant  ...  Class variable\n",
              "0                         6  ...               1\n",
              "1                         1  ...               0\n",
              "2                         8  ...               1\n",
              "3                         1  ...               0\n",
              "4                         0  ...               1\n",
              "\n",
              "[5 rows x 9 columns]"
            ]
          },
          "metadata": {
            "tags": []
          }
        }
      ]
    },
    {
      "cell_type": "code",
      "metadata": {
        "colab": {
          "base_uri": "https://localhost:8080/",
          "height": 204
        },
        "id": "2N9whi-DGcFr",
        "outputId": "4472b835-c980-4d94-d2b0-d99c2a34a053"
      },
      "source": [
        "diamonds.head()"
      ],
      "execution_count": 5,
      "outputs": [
        {
          "output_type": "execute_result",
          "data": {
            "text/html": [
              "<div>\n",
              "<style scoped>\n",
              "    .dataframe tbody tr th:only-of-type {\n",
              "        vertical-align: middle;\n",
              "    }\n",
              "\n",
              "    .dataframe tbody tr th {\n",
              "        vertical-align: top;\n",
              "    }\n",
              "\n",
              "    .dataframe thead th {\n",
              "        text-align: right;\n",
              "    }\n",
              "</style>\n",
              "<table border=\"1\" class=\"dataframe\">\n",
              "  <thead>\n",
              "    <tr style=\"text-align: right;\">\n",
              "      <th></th>\n",
              "      <th>carat</th>\n",
              "      <th>cut</th>\n",
              "      <th>color</th>\n",
              "      <th>clarity</th>\n",
              "      <th>depth</th>\n",
              "      <th>table</th>\n",
              "      <th>price</th>\n",
              "      <th>x</th>\n",
              "      <th>y</th>\n",
              "      <th>z</th>\n",
              "    </tr>\n",
              "  </thead>\n",
              "  <tbody>\n",
              "    <tr>\n",
              "      <th>0</th>\n",
              "      <td>0.23</td>\n",
              "      <td>Ideal</td>\n",
              "      <td>E</td>\n",
              "      <td>SI2</td>\n",
              "      <td>61.5</td>\n",
              "      <td>55.0</td>\n",
              "      <td>326</td>\n",
              "      <td>3.95</td>\n",
              "      <td>3.98</td>\n",
              "      <td>2.43</td>\n",
              "    </tr>\n",
              "    <tr>\n",
              "      <th>1</th>\n",
              "      <td>0.21</td>\n",
              "      <td>Premium</td>\n",
              "      <td>E</td>\n",
              "      <td>SI1</td>\n",
              "      <td>59.8</td>\n",
              "      <td>61.0</td>\n",
              "      <td>326</td>\n",
              "      <td>3.89</td>\n",
              "      <td>3.84</td>\n",
              "      <td>2.31</td>\n",
              "    </tr>\n",
              "    <tr>\n",
              "      <th>2</th>\n",
              "      <td>0.23</td>\n",
              "      <td>Good</td>\n",
              "      <td>E</td>\n",
              "      <td>VS1</td>\n",
              "      <td>56.9</td>\n",
              "      <td>65.0</td>\n",
              "      <td>327</td>\n",
              "      <td>4.05</td>\n",
              "      <td>4.07</td>\n",
              "      <td>2.31</td>\n",
              "    </tr>\n",
              "    <tr>\n",
              "      <th>3</th>\n",
              "      <td>0.29</td>\n",
              "      <td>Premium</td>\n",
              "      <td>I</td>\n",
              "      <td>VS2</td>\n",
              "      <td>62.4</td>\n",
              "      <td>58.0</td>\n",
              "      <td>334</td>\n",
              "      <td>4.20</td>\n",
              "      <td>4.23</td>\n",
              "      <td>2.63</td>\n",
              "    </tr>\n",
              "    <tr>\n",
              "      <th>4</th>\n",
              "      <td>0.31</td>\n",
              "      <td>Good</td>\n",
              "      <td>J</td>\n",
              "      <td>SI2</td>\n",
              "      <td>63.3</td>\n",
              "      <td>58.0</td>\n",
              "      <td>335</td>\n",
              "      <td>4.34</td>\n",
              "      <td>4.35</td>\n",
              "      <td>2.75</td>\n",
              "    </tr>\n",
              "  </tbody>\n",
              "</table>\n",
              "</div>"
            ],
            "text/plain": [
              "   carat      cut color clarity  depth  table  price     x     y     z\n",
              "0   0.23    Ideal     E     SI2   61.5   55.0    326  3.95  3.98  2.43\n",
              "1   0.21  Premium     E     SI1   59.8   61.0    326  3.89  3.84  2.31\n",
              "2   0.23     Good     E     VS1   56.9   65.0    327  4.05  4.07  2.31\n",
              "3   0.29  Premium     I     VS2   62.4   58.0    334  4.20  4.23  2.63\n",
              "4   0.31     Good     J     SI2   63.3   58.0    335  4.34  4.35  2.75"
            ]
          },
          "metadata": {
            "tags": []
          },
          "execution_count": 5
        }
      ]
    },
    {
      "cell_type": "markdown",
      "metadata": {
        "id": "649a-mdtD9UP"
      },
      "source": [
        "# ExcelWriter\n",
        "\n",
        "write to `xlsx` file with different sheet name"
      ]
    },
    {
      "cell_type": "code",
      "metadata": {
        "id": "5jKuIUXjCA3Z"
      },
      "source": [
        "# Write to the same excel file\n",
        "with pd.ExcelWriter(\"data.xlsx\") as writer:\n",
        "\n",
        "    diamonds.to_excel(writer, sheet_name=\"diamonds\")\n",
        "    tips.to_excel(writer, sheet_name=\"tips\")"
      ],
      "execution_count": 6,
      "outputs": []
    },
    {
      "cell_type": "markdown",
      "metadata": {
        "id": "KUzRgiZsHiQC"
      },
      "source": [
        "# Pipe\n",
        "\n",
        "pipe is one of the best functions for doing data cleaning in a concise, compact manner in Pandas. It allows you to chain multiple custom functions into a single operation.\n",
        "\n",
        "For example, let’s say you have functions to `drop_duplicates`, `remove_outliers`, `encode_categoricals` that accept their own arguments. Here is how you apply all three in a single operation:"
      ]
    },
    {
      "cell_type": "code",
      "metadata": {
        "colab": {
          "base_uri": "https://localhost:8080/",
          "height": 215
        },
        "id": "8ghe7APWCZBO",
        "outputId": "ea41b047-bb97-4cfb-9ff9-e0a23104d61e"
      },
      "source": [
        "df_preped = (diamonds.pipe(drop_duplicates).\n",
        "                      pipe(remove_outliers, ['price', 'carat', 'depth']).\n",
        "                      pipe(encode_categoricals, ['cut', 'color', 'clarity'])\n",
        "            )"
      ],
      "execution_count": 7,
      "outputs": [
        {
          "output_type": "error",
          "ename": "NameError",
          "evalue": "ignored",
          "traceback": [
            "\u001b[0;31m---------------------------------------------------------------------------\u001b[0m",
            "\u001b[0;31mNameError\u001b[0m                                 Traceback (most recent call last)",
            "\u001b[0;32m<ipython-input-7-96a823c0f24a>\u001b[0m in \u001b[0;36m<module>\u001b[0;34m()\u001b[0m\n\u001b[0;32m----> 1\u001b[0;31m df_preped = (diamonds.pipe(drop_duplicates).\n\u001b[0m\u001b[1;32m      2\u001b[0m                       \u001b[0mpipe\u001b[0m\u001b[0;34m(\u001b[0m\u001b[0mremove_outliers\u001b[0m\u001b[0;34m,\u001b[0m \u001b[0;34m[\u001b[0m\u001b[0;34m'price'\u001b[0m\u001b[0;34m,\u001b[0m \u001b[0;34m'carat'\u001b[0m\u001b[0;34m,\u001b[0m \u001b[0;34m'depth'\u001b[0m\u001b[0;34m]\u001b[0m\u001b[0;34m)\u001b[0m\u001b[0;34m.\u001b[0m\u001b[0;34m\u001b[0m\u001b[0;34m\u001b[0m\u001b[0m\n\u001b[1;32m      3\u001b[0m                       \u001b[0mpipe\u001b[0m\u001b[0;34m(\u001b[0m\u001b[0mencode_categoricals\u001b[0m\u001b[0;34m,\u001b[0m \u001b[0;34m[\u001b[0m\u001b[0;34m'cut'\u001b[0m\u001b[0;34m,\u001b[0m \u001b[0;34m'color'\u001b[0m\u001b[0;34m,\u001b[0m \u001b[0;34m'clarity'\u001b[0m\u001b[0;34m]\u001b[0m\u001b[0;34m)\u001b[0m\u001b[0;34m\u001b[0m\u001b[0;34m\u001b[0m\u001b[0m\n\u001b[1;32m      4\u001b[0m             )\n",
            "\u001b[0;31mNameError\u001b[0m: name 'drop_duplicates' is not defined"
          ]
        }
      ]
    },
    {
      "cell_type": "markdown",
      "metadata": {
        "id": "IMAq9KpgIJLX"
      },
      "source": [
        "# factorize\n",
        "\n",
        "This function is a pandas alternative to Sklearn’s `LabelEncoder`:"
      ]
    },
    {
      "cell_type": "code",
      "metadata": {
        "id": "14lpLfpaII7A"
      },
      "source": [
        "# Mind the [0] at the end\n",
        "diamonds[\"cut_enc\"] = pd.factorize(diamonds[\"cut\"])[0]"
      ],
      "execution_count": 8,
      "outputs": []
    },
    {
      "cell_type": "code",
      "metadata": {
        "colab": {
          "base_uri": "https://localhost:8080/"
        },
        "id": "aMSAXXHGCaUo",
        "outputId": "7581013c-999b-4423-e07f-bd1884383b07"
      },
      "source": [
        "diamonds[\"cut_enc\"].sample(5)"
      ],
      "execution_count": 9,
      "outputs": [
        {
          "output_type": "execute_result",
          "data": {
            "text/plain": [
              "3018     0\n",
              "39118    1\n",
              "45776    0\n",
              "26367    2\n",
              "52579    0\n",
              "Name: cut_enc, dtype: int64"
            ]
          },
          "metadata": {
            "tags": []
          },
          "execution_count": 9
        }
      ]
    },
    {
      "cell_type": "markdown",
      "metadata": {
        "id": "a1lhnb7WIpjF"
      },
      "source": [
        "Unlike LabelEncoder, factorize returns a tuple of two values: the encoded column and a list of the unique categories:\n"
      ]
    },
    {
      "cell_type": "code",
      "metadata": {
        "id": "Ix09biWACaRj"
      },
      "source": [
        "codes, unique = pd.factorize(diamonds[\"cut\"], sort=True)"
      ],
      "execution_count": 10,
      "outputs": []
    },
    {
      "cell_type": "code",
      "metadata": {
        "colab": {
          "base_uri": "https://localhost:8080/"
        },
        "id": "DLWzonNTCaOy",
        "outputId": "214427c8-6ade-4725-d74d-a19ab5293222"
      },
      "source": [
        "codes[:10]"
      ],
      "execution_count": 11,
      "outputs": [
        {
          "output_type": "execute_result",
          "data": {
            "text/plain": [
              "array([0, 1, 3, 1, 3, 2, 2, 2, 4, 2])"
            ]
          },
          "metadata": {
            "tags": []
          },
          "execution_count": 11
        }
      ]
    },
    {
      "cell_type": "code",
      "metadata": {
        "colab": {
          "base_uri": "https://localhost:8080/"
        },
        "id": "rbklRaNiCaLR",
        "outputId": "8e6314e0-f2b4-49e9-bca4-d22bfbaa31cc"
      },
      "source": [
        "unique"
      ],
      "execution_count": 12,
      "outputs": [
        {
          "output_type": "execute_result",
          "data": {
            "text/plain": [
              "CategoricalIndex(['Ideal', 'Premium', 'Very Good', 'Good', 'Fair'], categories=['Ideal', 'Premium', 'Very Good', 'Good', 'Fair'], ordered=False, dtype='category')"
            ]
          },
          "metadata": {
            "tags": []
          },
          "execution_count": 12
        }
      ]
    },
    {
      "cell_type": "markdown",
      "metadata": {
        "id": "Gk-me7MPJG7g"
      },
      "source": [
        "# explode\n",
        "\n",
        "Transform each element of a list-like to a row, replicating index values.\n",
        "\n"
      ]
    },
    {
      "cell_type": "code",
      "metadata": {
        "colab": {
          "base_uri": "https://localhost:8080/",
          "height": 235
        },
        "id": "iiZ76x7tCaIz",
        "outputId": "89b4c7b8-8c73-45d0-e30f-72b5ebf070db"
      },
      "source": [
        "data = pd.Series([1, 6, 7, [46, 56, 49], 45, [15, 10, 12]]).to_frame(\"dirty\")\n",
        "data"
      ],
      "execution_count": 13,
      "outputs": [
        {
          "output_type": "execute_result",
          "data": {
            "text/html": [
              "<div>\n",
              "<style scoped>\n",
              "    .dataframe tbody tr th:only-of-type {\n",
              "        vertical-align: middle;\n",
              "    }\n",
              "\n",
              "    .dataframe tbody tr th {\n",
              "        vertical-align: top;\n",
              "    }\n",
              "\n",
              "    .dataframe thead th {\n",
              "        text-align: right;\n",
              "    }\n",
              "</style>\n",
              "<table border=\"1\" class=\"dataframe\">\n",
              "  <thead>\n",
              "    <tr style=\"text-align: right;\">\n",
              "      <th></th>\n",
              "      <th>dirty</th>\n",
              "    </tr>\n",
              "  </thead>\n",
              "  <tbody>\n",
              "    <tr>\n",
              "      <th>0</th>\n",
              "      <td>1</td>\n",
              "    </tr>\n",
              "    <tr>\n",
              "      <th>1</th>\n",
              "      <td>6</td>\n",
              "    </tr>\n",
              "    <tr>\n",
              "      <th>2</th>\n",
              "      <td>7</td>\n",
              "    </tr>\n",
              "    <tr>\n",
              "      <th>3</th>\n",
              "      <td>[46, 56, 49]</td>\n",
              "    </tr>\n",
              "    <tr>\n",
              "      <th>4</th>\n",
              "      <td>45</td>\n",
              "    </tr>\n",
              "    <tr>\n",
              "      <th>5</th>\n",
              "      <td>[15, 10, 12]</td>\n",
              "    </tr>\n",
              "  </tbody>\n",
              "</table>\n",
              "</div>"
            ],
            "text/plain": [
              "          dirty\n",
              "0             1\n",
              "1             6\n",
              "2             7\n",
              "3  [46, 56, 49]\n",
              "4            45\n",
              "5  [15, 10, 12]"
            ]
          },
          "metadata": {
            "tags": []
          },
          "execution_count": 13
        }
      ]
    },
    {
      "cell_type": "code",
      "metadata": {
        "colab": {
          "base_uri": "https://localhost:8080/",
          "height": 359
        },
        "id": "sohfiIthCaHK",
        "outputId": "e33c9be5-054e-4e50-c3ad-39474d7f57a7"
      },
      "source": [
        "data.explode(\"dirty\", ignore_index=True)"
      ],
      "execution_count": 14,
      "outputs": [
        {
          "output_type": "execute_result",
          "data": {
            "text/html": [
              "<div>\n",
              "<style scoped>\n",
              "    .dataframe tbody tr th:only-of-type {\n",
              "        vertical-align: middle;\n",
              "    }\n",
              "\n",
              "    .dataframe tbody tr th {\n",
              "        vertical-align: top;\n",
              "    }\n",
              "\n",
              "    .dataframe thead th {\n",
              "        text-align: right;\n",
              "    }\n",
              "</style>\n",
              "<table border=\"1\" class=\"dataframe\">\n",
              "  <thead>\n",
              "    <tr style=\"text-align: right;\">\n",
              "      <th></th>\n",
              "      <th>dirty</th>\n",
              "    </tr>\n",
              "  </thead>\n",
              "  <tbody>\n",
              "    <tr>\n",
              "      <th>0</th>\n",
              "      <td>1</td>\n",
              "    </tr>\n",
              "    <tr>\n",
              "      <th>1</th>\n",
              "      <td>6</td>\n",
              "    </tr>\n",
              "    <tr>\n",
              "      <th>2</th>\n",
              "      <td>7</td>\n",
              "    </tr>\n",
              "    <tr>\n",
              "      <th>3</th>\n",
              "      <td>46</td>\n",
              "    </tr>\n",
              "    <tr>\n",
              "      <th>4</th>\n",
              "      <td>56</td>\n",
              "    </tr>\n",
              "    <tr>\n",
              "      <th>5</th>\n",
              "      <td>49</td>\n",
              "    </tr>\n",
              "    <tr>\n",
              "      <th>6</th>\n",
              "      <td>45</td>\n",
              "    </tr>\n",
              "    <tr>\n",
              "      <th>7</th>\n",
              "      <td>15</td>\n",
              "    </tr>\n",
              "    <tr>\n",
              "      <th>8</th>\n",
              "      <td>10</td>\n",
              "    </tr>\n",
              "    <tr>\n",
              "      <th>9</th>\n",
              "      <td>12</td>\n",
              "    </tr>\n",
              "  </tbody>\n",
              "</table>\n",
              "</div>"
            ],
            "text/plain": [
              "  dirty\n",
              "0     1\n",
              "1     6\n",
              "2     7\n",
              "3    46\n",
              "4    56\n",
              "5    49\n",
              "6    45\n",
              "7    15\n",
              "8    10\n",
              "9    12"
            ]
          },
          "metadata": {
            "tags": []
          },
          "execution_count": 14
        }
      ]
    },
    {
      "cell_type": "code",
      "metadata": {
        "colab": {
          "base_uri": "https://localhost:8080/",
          "height": 359
        },
        "id": "2RCDFTcwCaEC",
        "outputId": "e7520d55-7beb-44cf-aac1-b77696c03c53"
      },
      "source": [
        "data.explode(\"dirty\")"
      ],
      "execution_count": 15,
      "outputs": [
        {
          "output_type": "execute_result",
          "data": {
            "text/html": [
              "<div>\n",
              "<style scoped>\n",
              "    .dataframe tbody tr th:only-of-type {\n",
              "        vertical-align: middle;\n",
              "    }\n",
              "\n",
              "    .dataframe tbody tr th {\n",
              "        vertical-align: top;\n",
              "    }\n",
              "\n",
              "    .dataframe thead th {\n",
              "        text-align: right;\n",
              "    }\n",
              "</style>\n",
              "<table border=\"1\" class=\"dataframe\">\n",
              "  <thead>\n",
              "    <tr style=\"text-align: right;\">\n",
              "      <th></th>\n",
              "      <th>dirty</th>\n",
              "    </tr>\n",
              "  </thead>\n",
              "  <tbody>\n",
              "    <tr>\n",
              "      <th>0</th>\n",
              "      <td>1</td>\n",
              "    </tr>\n",
              "    <tr>\n",
              "      <th>1</th>\n",
              "      <td>6</td>\n",
              "    </tr>\n",
              "    <tr>\n",
              "      <th>2</th>\n",
              "      <td>7</td>\n",
              "    </tr>\n",
              "    <tr>\n",
              "      <th>3</th>\n",
              "      <td>46</td>\n",
              "    </tr>\n",
              "    <tr>\n",
              "      <th>3</th>\n",
              "      <td>56</td>\n",
              "    </tr>\n",
              "    <tr>\n",
              "      <th>3</th>\n",
              "      <td>49</td>\n",
              "    </tr>\n",
              "    <tr>\n",
              "      <th>4</th>\n",
              "      <td>45</td>\n",
              "    </tr>\n",
              "    <tr>\n",
              "      <th>5</th>\n",
              "      <td>15</td>\n",
              "    </tr>\n",
              "    <tr>\n",
              "      <th>5</th>\n",
              "      <td>10</td>\n",
              "    </tr>\n",
              "    <tr>\n",
              "      <th>5</th>\n",
              "      <td>12</td>\n",
              "    </tr>\n",
              "  </tbody>\n",
              "</table>\n",
              "</div>"
            ],
            "text/plain": [
              "  dirty\n",
              "0     1\n",
              "1     6\n",
              "2     7\n",
              "3    46\n",
              "3    56\n",
              "3    49\n",
              "4    45\n",
              "5    15\n",
              "5    10\n",
              "5    12"
            ]
          },
          "metadata": {
            "tags": []
          },
          "execution_count": 15
        }
      ]
    },
    {
      "cell_type": "markdown",
      "metadata": {
        "id": "QiJJoELuOpOL"
      },
      "source": [
        "# squeezee\n",
        "\n",
        "可以把一维的向量直接转为scaler，或者`Series`"
      ]
    },
    {
      "cell_type": "code",
      "metadata": {
        "id": "Bp_7X9L1MjIR"
      },
      "source": [
        "subset = diamonds.loc[diamonds.index < 2, [\"price\"]]"
      ],
      "execution_count": 16,
      "outputs": []
    },
    {
      "cell_type": "code",
      "metadata": {
        "colab": {
          "base_uri": "https://localhost:8080/"
        },
        "id": "hczI-C8lMjFe",
        "outputId": "eac4f6e9-2626-4087-d05a-10b8c6a6381d"
      },
      "source": [
        "subset.squeeze()"
      ],
      "execution_count": 17,
      "outputs": [
        {
          "output_type": "execute_result",
          "data": {
            "text/plain": [
              "0    326\n",
              "1    326\n",
              "Name: price, dtype: int64"
            ]
          },
          "metadata": {
            "tags": []
          },
          "execution_count": 17
        }
      ]
    },
    {
      "cell_type": "code",
      "metadata": {
        "colab": {
          "base_uri": "https://localhost:8080/"
        },
        "id": "5CfPg_Y8MjBZ",
        "outputId": "224c4778-875d-48df-897b-88cc5d1980bd"
      },
      "source": [
        "# squeeze过后可以直接通过位置索引\n",
        "subset.squeeze()[1]"
      ],
      "execution_count": 18,
      "outputs": [
        {
          "output_type": "execute_result",
          "data": {
            "text/plain": [
              "326"
            ]
          },
          "metadata": {
            "tags": []
          },
          "execution_count": 18
        }
      ]
    },
    {
      "cell_type": "markdown",
      "metadata": {
        "id": "Tz0XPkyGQqj2"
      },
      "source": [
        "# between\n",
        "\n",
        "A rather nifty function for boolean indexing numeric features within a range:"
      ]
    },
    {
      "cell_type": "code",
      "metadata": {
        "colab": {
          "base_uri": "https://localhost:8080/",
          "height": 204
        },
        "id": "b0h2UJY5QoTB",
        "outputId": "fddf31f9-af6b-4c7e-cfdf-ef0b1efbbf25"
      },
      "source": [
        "diamonds[diamonds[\"price\"]\\\n",
        "      .between(3500, 3700, inclusive=\"neither\")].sample(5)"
      ],
      "execution_count": 19,
      "outputs": [
        {
          "output_type": "execute_result",
          "data": {
            "text/html": [
              "<div>\n",
              "<style scoped>\n",
              "    .dataframe tbody tr th:only-of-type {\n",
              "        vertical-align: middle;\n",
              "    }\n",
              "\n",
              "    .dataframe tbody tr th {\n",
              "        vertical-align: top;\n",
              "    }\n",
              "\n",
              "    .dataframe thead th {\n",
              "        text-align: right;\n",
              "    }\n",
              "</style>\n",
              "<table border=\"1\" class=\"dataframe\">\n",
              "  <thead>\n",
              "    <tr style=\"text-align: right;\">\n",
              "      <th></th>\n",
              "      <th>carat</th>\n",
              "      <th>cut</th>\n",
              "      <th>color</th>\n",
              "      <th>clarity</th>\n",
              "      <th>depth</th>\n",
              "      <th>table</th>\n",
              "      <th>price</th>\n",
              "      <th>x</th>\n",
              "      <th>y</th>\n",
              "      <th>z</th>\n",
              "      <th>cut_enc</th>\n",
              "    </tr>\n",
              "  </thead>\n",
              "  <tbody>\n",
              "    <tr>\n",
              "      <th>4136</th>\n",
              "      <td>0.95</td>\n",
              "      <td>Very Good</td>\n",
              "      <td>I</td>\n",
              "      <td>SI1</td>\n",
              "      <td>61.0</td>\n",
              "      <td>61.0</td>\n",
              "      <td>3544</td>\n",
              "      <td>6.29</td>\n",
              "      <td>6.37</td>\n",
              "      <td>3.86</td>\n",
              "      <td>3</td>\n",
              "    </tr>\n",
              "    <tr>\n",
              "      <th>4647</th>\n",
              "      <td>0.90</td>\n",
              "      <td>Good</td>\n",
              "      <td>I</td>\n",
              "      <td>IF</td>\n",
              "      <td>63.7</td>\n",
              "      <td>64.0</td>\n",
              "      <td>3669</td>\n",
              "      <td>6.07</td>\n",
              "      <td>6.02</td>\n",
              "      <td>3.85</td>\n",
              "      <td>2</td>\n",
              "    </tr>\n",
              "    <tr>\n",
              "      <th>4545</th>\n",
              "      <td>1.00</td>\n",
              "      <td>Premium</td>\n",
              "      <td>G</td>\n",
              "      <td>SI2</td>\n",
              "      <td>63.0</td>\n",
              "      <td>56.0</td>\n",
              "      <td>3640</td>\n",
              "      <td>6.37</td>\n",
              "      <td>6.33</td>\n",
              "      <td>4.00</td>\n",
              "      <td>1</td>\n",
              "    </tr>\n",
              "    <tr>\n",
              "      <th>4790</th>\n",
              "      <td>1.00</td>\n",
              "      <td>Good</td>\n",
              "      <td>E</td>\n",
              "      <td>SI1</td>\n",
              "      <td>57.6</td>\n",
              "      <td>65.0</td>\n",
              "      <td>3696</td>\n",
              "      <td>6.47</td>\n",
              "      <td>6.44</td>\n",
              "      <td>3.72</td>\n",
              "      <td>2</td>\n",
              "    </tr>\n",
              "    <tr>\n",
              "      <th>4209</th>\n",
              "      <td>0.72</td>\n",
              "      <td>Premium</td>\n",
              "      <td>E</td>\n",
              "      <td>VVS1</td>\n",
              "      <td>62.9</td>\n",
              "      <td>59.0</td>\n",
              "      <td>3566</td>\n",
              "      <td>5.75</td>\n",
              "      <td>5.67</td>\n",
              "      <td>3.59</td>\n",
              "      <td>1</td>\n",
              "    </tr>\n",
              "  </tbody>\n",
              "</table>\n",
              "</div>"
            ],
            "text/plain": [
              "      carat        cut color clarity  depth  ...  price     x     y     z  cut_enc\n",
              "4136   0.95  Very Good     I     SI1   61.0  ...   3544  6.29  6.37  3.86        3\n",
              "4647   0.90       Good     I      IF   63.7  ...   3669  6.07  6.02  3.85        2\n",
              "4545   1.00    Premium     G     SI2   63.0  ...   3640  6.37  6.33  4.00        1\n",
              "4790   1.00       Good     E     SI1   57.6  ...   3696  6.47  6.44  3.72        2\n",
              "4209   0.72    Premium     E    VVS1   62.9  ...   3566  5.75  5.67  3.59        1\n",
              "\n",
              "[5 rows x 11 columns]"
            ]
          },
          "metadata": {
            "tags": []
          },
          "execution_count": 19
        }
      ]
    },
    {
      "cell_type": "markdown",
      "metadata": {
        "id": "7MfMyEwXRMKr"
      },
      "source": [
        "# T\n",
        "\n",
        "transpose"
      ]
    },
    {
      "cell_type": "code",
      "metadata": {
        "colab": {
          "base_uri": "https://localhost:8080/",
          "height": 297
        },
        "id": "KLQxKUMsRBJd",
        "outputId": "eec49051-def7-4ac0-86bc-a01f4e122a92"
      },
      "source": [
        "diamonds.describe().T"
      ],
      "execution_count": 20,
      "outputs": [
        {
          "output_type": "execute_result",
          "data": {
            "text/html": [
              "<div>\n",
              "<style scoped>\n",
              "    .dataframe tbody tr th:only-of-type {\n",
              "        vertical-align: middle;\n",
              "    }\n",
              "\n",
              "    .dataframe tbody tr th {\n",
              "        vertical-align: top;\n",
              "    }\n",
              "\n",
              "    .dataframe thead th {\n",
              "        text-align: right;\n",
              "    }\n",
              "</style>\n",
              "<table border=\"1\" class=\"dataframe\">\n",
              "  <thead>\n",
              "    <tr style=\"text-align: right;\">\n",
              "      <th></th>\n",
              "      <th>count</th>\n",
              "      <th>mean</th>\n",
              "      <th>std</th>\n",
              "      <th>min</th>\n",
              "      <th>25%</th>\n",
              "      <th>50%</th>\n",
              "      <th>75%</th>\n",
              "      <th>max</th>\n",
              "    </tr>\n",
              "  </thead>\n",
              "  <tbody>\n",
              "    <tr>\n",
              "      <th>carat</th>\n",
              "      <td>53940.0</td>\n",
              "      <td>0.797940</td>\n",
              "      <td>0.474011</td>\n",
              "      <td>0.2</td>\n",
              "      <td>0.40</td>\n",
              "      <td>0.70</td>\n",
              "      <td>1.04</td>\n",
              "      <td>5.01</td>\n",
              "    </tr>\n",
              "    <tr>\n",
              "      <th>depth</th>\n",
              "      <td>53940.0</td>\n",
              "      <td>61.749405</td>\n",
              "      <td>1.432621</td>\n",
              "      <td>43.0</td>\n",
              "      <td>61.00</td>\n",
              "      <td>61.80</td>\n",
              "      <td>62.50</td>\n",
              "      <td>79.00</td>\n",
              "    </tr>\n",
              "    <tr>\n",
              "      <th>table</th>\n",
              "      <td>53940.0</td>\n",
              "      <td>57.457184</td>\n",
              "      <td>2.234491</td>\n",
              "      <td>43.0</td>\n",
              "      <td>56.00</td>\n",
              "      <td>57.00</td>\n",
              "      <td>59.00</td>\n",
              "      <td>95.00</td>\n",
              "    </tr>\n",
              "    <tr>\n",
              "      <th>price</th>\n",
              "      <td>53940.0</td>\n",
              "      <td>3932.799722</td>\n",
              "      <td>3989.439738</td>\n",
              "      <td>326.0</td>\n",
              "      <td>950.00</td>\n",
              "      <td>2401.00</td>\n",
              "      <td>5324.25</td>\n",
              "      <td>18823.00</td>\n",
              "    </tr>\n",
              "    <tr>\n",
              "      <th>x</th>\n",
              "      <td>53940.0</td>\n",
              "      <td>5.731157</td>\n",
              "      <td>1.121761</td>\n",
              "      <td>0.0</td>\n",
              "      <td>4.71</td>\n",
              "      <td>5.70</td>\n",
              "      <td>6.54</td>\n",
              "      <td>10.74</td>\n",
              "    </tr>\n",
              "    <tr>\n",
              "      <th>y</th>\n",
              "      <td>53940.0</td>\n",
              "      <td>5.734526</td>\n",
              "      <td>1.142135</td>\n",
              "      <td>0.0</td>\n",
              "      <td>4.72</td>\n",
              "      <td>5.71</td>\n",
              "      <td>6.54</td>\n",
              "      <td>58.90</td>\n",
              "    </tr>\n",
              "    <tr>\n",
              "      <th>z</th>\n",
              "      <td>53940.0</td>\n",
              "      <td>3.538734</td>\n",
              "      <td>0.705699</td>\n",
              "      <td>0.0</td>\n",
              "      <td>2.91</td>\n",
              "      <td>3.53</td>\n",
              "      <td>4.04</td>\n",
              "      <td>31.80</td>\n",
              "    </tr>\n",
              "    <tr>\n",
              "      <th>cut_enc</th>\n",
              "      <td>53940.0</td>\n",
              "      <td>1.228940</td>\n",
              "      <td>1.265976</td>\n",
              "      <td>0.0</td>\n",
              "      <td>0.00</td>\n",
              "      <td>1.00</td>\n",
              "      <td>3.00</td>\n",
              "      <td>4.00</td>\n",
              "    </tr>\n",
              "  </tbody>\n",
              "</table>\n",
              "</div>"
            ],
            "text/plain": [
              "           count         mean          std  ...      50%      75%       max\n",
              "carat    53940.0     0.797940     0.474011  ...     0.70     1.04      5.01\n",
              "depth    53940.0    61.749405     1.432621  ...    61.80    62.50     79.00\n",
              "table    53940.0    57.457184     2.234491  ...    57.00    59.00     95.00\n",
              "price    53940.0  3932.799722  3989.439738  ...  2401.00  5324.25  18823.00\n",
              "x        53940.0     5.731157     1.121761  ...     5.70     6.54     10.74\n",
              "y        53940.0     5.734526     1.142135  ...     5.71     6.54     58.90\n",
              "z        53940.0     3.538734     0.705699  ...     3.53     4.04     31.80\n",
              "cut_enc  53940.0     1.228940     1.265976  ...     1.00     3.00      4.00\n",
              "\n",
              "[8 rows x 8 columns]"
            ]
          },
          "metadata": {
            "tags": []
          },
          "execution_count": 20
        }
      ]
    },
    {
      "cell_type": "markdown",
      "metadata": {
        "id": "Hlx5g9qCcNYI"
      },
      "source": [
        "# Style"
      ]
    },
    {
      "cell_type": "code",
      "metadata": {
        "colab": {
          "base_uri": "https://localhost:8080/",
          "height": 229
        },
        "id": "VQbp6dVqMi4J",
        "outputId": "75774796-134c-430d-dd33-4fffbd195da1"
      },
      "source": [
        "diabetes.describe().T.drop(\"count\", axis=1)\\\n",
        ".style.highlight_max()\n",
        "               #  .style.highlight_max(color=\"darkred\")"
      ],
      "execution_count": 21,
      "outputs": [
        {
          "output_type": "execute_result",
          "data": {
            "text/html": [
              "<style  type=\"text/css\" >\n",
              "#T_50e39a22_ff13_11eb_9412_0242ac1c0002row1_col0,#T_50e39a22_ff13_11eb_9412_0242ac1c0002row1_col3,#T_50e39a22_ff13_11eb_9412_0242ac1c0002row1_col4,#T_50e39a22_ff13_11eb_9412_0242ac1c0002row1_col5,#T_50e39a22_ff13_11eb_9412_0242ac1c0002row4_col1,#T_50e39a22_ff13_11eb_9412_0242ac1c0002row4_col6,#T_50e39a22_ff13_11eb_9412_0242ac1c0002row7_col2{\n",
              "            background-color:  yellow;\n",
              "        }</style><table id=\"T_50e39a22_ff13_11eb_9412_0242ac1c0002\" ><thead>    <tr>        <th class=\"blank level0\" ></th>        <th class=\"col_heading level0 col0\" >mean</th>        <th class=\"col_heading level0 col1\" >std</th>        <th class=\"col_heading level0 col2\" >min</th>        <th class=\"col_heading level0 col3\" >25%</th>        <th class=\"col_heading level0 col4\" >50%</th>        <th class=\"col_heading level0 col5\" >75%</th>        <th class=\"col_heading level0 col6\" >max</th>    </tr></thead><tbody>\n",
              "                <tr>\n",
              "                        <th id=\"T_50e39a22_ff13_11eb_9412_0242ac1c0002level0_row0\" class=\"row_heading level0 row0\" >Number of times pregnant</th>\n",
              "                        <td id=\"T_50e39a22_ff13_11eb_9412_0242ac1c0002row0_col0\" class=\"data row0 col0\" >3.845052</td>\n",
              "                        <td id=\"T_50e39a22_ff13_11eb_9412_0242ac1c0002row0_col1\" class=\"data row0 col1\" >3.369578</td>\n",
              "                        <td id=\"T_50e39a22_ff13_11eb_9412_0242ac1c0002row0_col2\" class=\"data row0 col2\" >0.000000</td>\n",
              "                        <td id=\"T_50e39a22_ff13_11eb_9412_0242ac1c0002row0_col3\" class=\"data row0 col3\" >1.000000</td>\n",
              "                        <td id=\"T_50e39a22_ff13_11eb_9412_0242ac1c0002row0_col4\" class=\"data row0 col4\" >3.000000</td>\n",
              "                        <td id=\"T_50e39a22_ff13_11eb_9412_0242ac1c0002row0_col5\" class=\"data row0 col5\" >6.000000</td>\n",
              "                        <td id=\"T_50e39a22_ff13_11eb_9412_0242ac1c0002row0_col6\" class=\"data row0 col6\" >17.000000</td>\n",
              "            </tr>\n",
              "            <tr>\n",
              "                        <th id=\"T_50e39a22_ff13_11eb_9412_0242ac1c0002level0_row1\" class=\"row_heading level0 row1\" >Plasma glucose concentration a 2 hours in an oral glucose tolerance test</th>\n",
              "                        <td id=\"T_50e39a22_ff13_11eb_9412_0242ac1c0002row1_col0\" class=\"data row1 col0\" >120.894531</td>\n",
              "                        <td id=\"T_50e39a22_ff13_11eb_9412_0242ac1c0002row1_col1\" class=\"data row1 col1\" >31.972618</td>\n",
              "                        <td id=\"T_50e39a22_ff13_11eb_9412_0242ac1c0002row1_col2\" class=\"data row1 col2\" >0.000000</td>\n",
              "                        <td id=\"T_50e39a22_ff13_11eb_9412_0242ac1c0002row1_col3\" class=\"data row1 col3\" >99.000000</td>\n",
              "                        <td id=\"T_50e39a22_ff13_11eb_9412_0242ac1c0002row1_col4\" class=\"data row1 col4\" >117.000000</td>\n",
              "                        <td id=\"T_50e39a22_ff13_11eb_9412_0242ac1c0002row1_col5\" class=\"data row1 col5\" >140.250000</td>\n",
              "                        <td id=\"T_50e39a22_ff13_11eb_9412_0242ac1c0002row1_col6\" class=\"data row1 col6\" >199.000000</td>\n",
              "            </tr>\n",
              "            <tr>\n",
              "                        <th id=\"T_50e39a22_ff13_11eb_9412_0242ac1c0002level0_row2\" class=\"row_heading level0 row2\" >Diastolic blood pressure (mm Hg)</th>\n",
              "                        <td id=\"T_50e39a22_ff13_11eb_9412_0242ac1c0002row2_col0\" class=\"data row2 col0\" >69.105469</td>\n",
              "                        <td id=\"T_50e39a22_ff13_11eb_9412_0242ac1c0002row2_col1\" class=\"data row2 col1\" >19.355807</td>\n",
              "                        <td id=\"T_50e39a22_ff13_11eb_9412_0242ac1c0002row2_col2\" class=\"data row2 col2\" >0.000000</td>\n",
              "                        <td id=\"T_50e39a22_ff13_11eb_9412_0242ac1c0002row2_col3\" class=\"data row2 col3\" >62.000000</td>\n",
              "                        <td id=\"T_50e39a22_ff13_11eb_9412_0242ac1c0002row2_col4\" class=\"data row2 col4\" >72.000000</td>\n",
              "                        <td id=\"T_50e39a22_ff13_11eb_9412_0242ac1c0002row2_col5\" class=\"data row2 col5\" >80.000000</td>\n",
              "                        <td id=\"T_50e39a22_ff13_11eb_9412_0242ac1c0002row2_col6\" class=\"data row2 col6\" >122.000000</td>\n",
              "            </tr>\n",
              "            <tr>\n",
              "                        <th id=\"T_50e39a22_ff13_11eb_9412_0242ac1c0002level0_row3\" class=\"row_heading level0 row3\" >Triceps skin fold thickness (mm)</th>\n",
              "                        <td id=\"T_50e39a22_ff13_11eb_9412_0242ac1c0002row3_col0\" class=\"data row3 col0\" >20.536458</td>\n",
              "                        <td id=\"T_50e39a22_ff13_11eb_9412_0242ac1c0002row3_col1\" class=\"data row3 col1\" >15.952218</td>\n",
              "                        <td id=\"T_50e39a22_ff13_11eb_9412_0242ac1c0002row3_col2\" class=\"data row3 col2\" >0.000000</td>\n",
              "                        <td id=\"T_50e39a22_ff13_11eb_9412_0242ac1c0002row3_col3\" class=\"data row3 col3\" >0.000000</td>\n",
              "                        <td id=\"T_50e39a22_ff13_11eb_9412_0242ac1c0002row3_col4\" class=\"data row3 col4\" >23.000000</td>\n",
              "                        <td id=\"T_50e39a22_ff13_11eb_9412_0242ac1c0002row3_col5\" class=\"data row3 col5\" >32.000000</td>\n",
              "                        <td id=\"T_50e39a22_ff13_11eb_9412_0242ac1c0002row3_col6\" class=\"data row3 col6\" >99.000000</td>\n",
              "            </tr>\n",
              "            <tr>\n",
              "                        <th id=\"T_50e39a22_ff13_11eb_9412_0242ac1c0002level0_row4\" class=\"row_heading level0 row4\" >2-Hour serum insulin (mu U/ml)</th>\n",
              "                        <td id=\"T_50e39a22_ff13_11eb_9412_0242ac1c0002row4_col0\" class=\"data row4 col0\" >79.799479</td>\n",
              "                        <td id=\"T_50e39a22_ff13_11eb_9412_0242ac1c0002row4_col1\" class=\"data row4 col1\" >115.244002</td>\n",
              "                        <td id=\"T_50e39a22_ff13_11eb_9412_0242ac1c0002row4_col2\" class=\"data row4 col2\" >0.000000</td>\n",
              "                        <td id=\"T_50e39a22_ff13_11eb_9412_0242ac1c0002row4_col3\" class=\"data row4 col3\" >0.000000</td>\n",
              "                        <td id=\"T_50e39a22_ff13_11eb_9412_0242ac1c0002row4_col4\" class=\"data row4 col4\" >30.500000</td>\n",
              "                        <td id=\"T_50e39a22_ff13_11eb_9412_0242ac1c0002row4_col5\" class=\"data row4 col5\" >127.250000</td>\n",
              "                        <td id=\"T_50e39a22_ff13_11eb_9412_0242ac1c0002row4_col6\" class=\"data row4 col6\" >846.000000</td>\n",
              "            </tr>\n",
              "            <tr>\n",
              "                        <th id=\"T_50e39a22_ff13_11eb_9412_0242ac1c0002level0_row5\" class=\"row_heading level0 row5\" >Body mass index (weight in kg/(height in m)^2)</th>\n",
              "                        <td id=\"T_50e39a22_ff13_11eb_9412_0242ac1c0002row5_col0\" class=\"data row5 col0\" >31.992578</td>\n",
              "                        <td id=\"T_50e39a22_ff13_11eb_9412_0242ac1c0002row5_col1\" class=\"data row5 col1\" >7.884160</td>\n",
              "                        <td id=\"T_50e39a22_ff13_11eb_9412_0242ac1c0002row5_col2\" class=\"data row5 col2\" >0.000000</td>\n",
              "                        <td id=\"T_50e39a22_ff13_11eb_9412_0242ac1c0002row5_col3\" class=\"data row5 col3\" >27.300000</td>\n",
              "                        <td id=\"T_50e39a22_ff13_11eb_9412_0242ac1c0002row5_col4\" class=\"data row5 col4\" >32.000000</td>\n",
              "                        <td id=\"T_50e39a22_ff13_11eb_9412_0242ac1c0002row5_col5\" class=\"data row5 col5\" >36.600000</td>\n",
              "                        <td id=\"T_50e39a22_ff13_11eb_9412_0242ac1c0002row5_col6\" class=\"data row5 col6\" >67.100000</td>\n",
              "            </tr>\n",
              "            <tr>\n",
              "                        <th id=\"T_50e39a22_ff13_11eb_9412_0242ac1c0002level0_row6\" class=\"row_heading level0 row6\" >Diabetes pedigree function</th>\n",
              "                        <td id=\"T_50e39a22_ff13_11eb_9412_0242ac1c0002row6_col0\" class=\"data row6 col0\" >0.471876</td>\n",
              "                        <td id=\"T_50e39a22_ff13_11eb_9412_0242ac1c0002row6_col1\" class=\"data row6 col1\" >0.331329</td>\n",
              "                        <td id=\"T_50e39a22_ff13_11eb_9412_0242ac1c0002row6_col2\" class=\"data row6 col2\" >0.078000</td>\n",
              "                        <td id=\"T_50e39a22_ff13_11eb_9412_0242ac1c0002row6_col3\" class=\"data row6 col3\" >0.243750</td>\n",
              "                        <td id=\"T_50e39a22_ff13_11eb_9412_0242ac1c0002row6_col4\" class=\"data row6 col4\" >0.372500</td>\n",
              "                        <td id=\"T_50e39a22_ff13_11eb_9412_0242ac1c0002row6_col5\" class=\"data row6 col5\" >0.626250</td>\n",
              "                        <td id=\"T_50e39a22_ff13_11eb_9412_0242ac1c0002row6_col6\" class=\"data row6 col6\" >2.420000</td>\n",
              "            </tr>\n",
              "            <tr>\n",
              "                        <th id=\"T_50e39a22_ff13_11eb_9412_0242ac1c0002level0_row7\" class=\"row_heading level0 row7\" >Age (years)</th>\n",
              "                        <td id=\"T_50e39a22_ff13_11eb_9412_0242ac1c0002row7_col0\" class=\"data row7 col0\" >33.240885</td>\n",
              "                        <td id=\"T_50e39a22_ff13_11eb_9412_0242ac1c0002row7_col1\" class=\"data row7 col1\" >11.760232</td>\n",
              "                        <td id=\"T_50e39a22_ff13_11eb_9412_0242ac1c0002row7_col2\" class=\"data row7 col2\" >21.000000</td>\n",
              "                        <td id=\"T_50e39a22_ff13_11eb_9412_0242ac1c0002row7_col3\" class=\"data row7 col3\" >24.000000</td>\n",
              "                        <td id=\"T_50e39a22_ff13_11eb_9412_0242ac1c0002row7_col4\" class=\"data row7 col4\" >29.000000</td>\n",
              "                        <td id=\"T_50e39a22_ff13_11eb_9412_0242ac1c0002row7_col5\" class=\"data row7 col5\" >41.000000</td>\n",
              "                        <td id=\"T_50e39a22_ff13_11eb_9412_0242ac1c0002row7_col6\" class=\"data row7 col6\" >81.000000</td>\n",
              "            </tr>\n",
              "            <tr>\n",
              "                        <th id=\"T_50e39a22_ff13_11eb_9412_0242ac1c0002level0_row8\" class=\"row_heading level0 row8\" >Class variable</th>\n",
              "                        <td id=\"T_50e39a22_ff13_11eb_9412_0242ac1c0002row8_col0\" class=\"data row8 col0\" >0.348958</td>\n",
              "                        <td id=\"T_50e39a22_ff13_11eb_9412_0242ac1c0002row8_col1\" class=\"data row8 col1\" >0.476951</td>\n",
              "                        <td id=\"T_50e39a22_ff13_11eb_9412_0242ac1c0002row8_col2\" class=\"data row8 col2\" >0.000000</td>\n",
              "                        <td id=\"T_50e39a22_ff13_11eb_9412_0242ac1c0002row8_col3\" class=\"data row8 col3\" >0.000000</td>\n",
              "                        <td id=\"T_50e39a22_ff13_11eb_9412_0242ac1c0002row8_col4\" class=\"data row8 col4\" >0.000000</td>\n",
              "                        <td id=\"T_50e39a22_ff13_11eb_9412_0242ac1c0002row8_col5\" class=\"data row8 col5\" >1.000000</td>\n",
              "                        <td id=\"T_50e39a22_ff13_11eb_9412_0242ac1c0002row8_col6\" class=\"data row8 col6\" >1.000000</td>\n",
              "            </tr>\n",
              "    </tbody></table>"
            ],
            "text/plain": [
              "<pandas.io.formats.style.Styler at 0x7f1b74826310>"
            ]
          },
          "metadata": {
            "tags": []
          },
          "execution_count": 21
        }
      ]
    },
    {
      "cell_type": "markdown",
      "metadata": {
        "id": "JU4RSh9GesJY"
      },
      "source": [
        "Above, we are highlighting cells that hold the maximum value of a column. Another cool styler is `background_gradient` which can give columns a gradient background color based on their values:"
      ]
    },
    {
      "cell_type": "code",
      "metadata": {
        "colab": {
          "base_uri": "https://localhost:8080/",
          "height": 229
        },
        "id": "0iGtz3ZuMi1B",
        "outputId": "7a64d846-68dd-4617-e166-a93a4335d6e6"
      },
      "source": [
        "diabetes.describe().T.drop(\"count\", axis=1).style.background_gradient(\n",
        "    subset=[\"mean\", \"50%\"], cmap=\"Reds\"\n",
        ")"
      ],
      "execution_count": 22,
      "outputs": [
        {
          "output_type": "execute_result",
          "data": {
            "text/html": [
              "<style  type=\"text/css\" >\n",
              "#T_50ecd934_ff13_11eb_9412_0242ac1c0002row0_col0{\n",
              "            background-color:  #fff0e9;\n",
              "            color:  #000000;\n",
              "        }#T_50ecd934_ff13_11eb_9412_0242ac1c0002row0_col4{\n",
              "            background-color:  #fff1ea;\n",
              "            color:  #000000;\n",
              "        }#T_50ecd934_ff13_11eb_9412_0242ac1c0002row1_col0,#T_50ecd934_ff13_11eb_9412_0242ac1c0002row1_col4{\n",
              "            background-color:  #67000d;\n",
              "            color:  #f1f1f1;\n",
              "        }#T_50ecd934_ff13_11eb_9412_0242ac1c0002row2_col0{\n",
              "            background-color:  #f44f39;\n",
              "            color:  #000000;\n",
              "        }#T_50ecd934_ff13_11eb_9412_0242ac1c0002row2_col4{\n",
              "            background-color:  #f03f2e;\n",
              "            color:  #f1f1f1;\n",
              "        }#T_50ecd934_ff13_11eb_9412_0242ac1c0002row3_col0{\n",
              "            background-color:  #fdd4c2;\n",
              "            color:  #000000;\n",
              "        }#T_50ecd934_ff13_11eb_9412_0242ac1c0002row3_col4{\n",
              "            background-color:  #fdcbb6;\n",
              "            color:  #000000;\n",
              "        }#T_50ecd934_ff13_11eb_9412_0242ac1c0002row4_col0{\n",
              "            background-color:  #e53228;\n",
              "            color:  #f1f1f1;\n",
              "        }#T_50ecd934_ff13_11eb_9412_0242ac1c0002row4_col4{\n",
              "            background-color:  #fcb89e;\n",
              "            color:  #000000;\n",
              "        }#T_50ecd934_ff13_11eb_9412_0242ac1c0002row5_col0{\n",
              "            background-color:  #fcb79c;\n",
              "            color:  #000000;\n",
              "        }#T_50ecd934_ff13_11eb_9412_0242ac1c0002row5_col4{\n",
              "            background-color:  #fcb398;\n",
              "            color:  #000000;\n",
              "        }#T_50ecd934_ff13_11eb_9412_0242ac1c0002row6_col0,#T_50ecd934_ff13_11eb_9412_0242ac1c0002row6_col4,#T_50ecd934_ff13_11eb_9412_0242ac1c0002row8_col0,#T_50ecd934_ff13_11eb_9412_0242ac1c0002row8_col4{\n",
              "            background-color:  #fff5f0;\n",
              "            color:  #000000;\n",
              "        }#T_50ecd934_ff13_11eb_9412_0242ac1c0002row7_col0{\n",
              "            background-color:  #fcb499;\n",
              "            color:  #000000;\n",
              "        }#T_50ecd934_ff13_11eb_9412_0242ac1c0002row7_col4{\n",
              "            background-color:  #fcbca2;\n",
              "            color:  #000000;\n",
              "        }</style><table id=\"T_50ecd934_ff13_11eb_9412_0242ac1c0002\" ><thead>    <tr>        <th class=\"blank level0\" ></th>        <th class=\"col_heading level0 col0\" >mean</th>        <th class=\"col_heading level0 col1\" >std</th>        <th class=\"col_heading level0 col2\" >min</th>        <th class=\"col_heading level0 col3\" >25%</th>        <th class=\"col_heading level0 col4\" >50%</th>        <th class=\"col_heading level0 col5\" >75%</th>        <th class=\"col_heading level0 col6\" >max</th>    </tr></thead><tbody>\n",
              "                <tr>\n",
              "                        <th id=\"T_50ecd934_ff13_11eb_9412_0242ac1c0002level0_row0\" class=\"row_heading level0 row0\" >Number of times pregnant</th>\n",
              "                        <td id=\"T_50ecd934_ff13_11eb_9412_0242ac1c0002row0_col0\" class=\"data row0 col0\" >3.845052</td>\n",
              "                        <td id=\"T_50ecd934_ff13_11eb_9412_0242ac1c0002row0_col1\" class=\"data row0 col1\" >3.369578</td>\n",
              "                        <td id=\"T_50ecd934_ff13_11eb_9412_0242ac1c0002row0_col2\" class=\"data row0 col2\" >0.000000</td>\n",
              "                        <td id=\"T_50ecd934_ff13_11eb_9412_0242ac1c0002row0_col3\" class=\"data row0 col3\" >1.000000</td>\n",
              "                        <td id=\"T_50ecd934_ff13_11eb_9412_0242ac1c0002row0_col4\" class=\"data row0 col4\" >3.000000</td>\n",
              "                        <td id=\"T_50ecd934_ff13_11eb_9412_0242ac1c0002row0_col5\" class=\"data row0 col5\" >6.000000</td>\n",
              "                        <td id=\"T_50ecd934_ff13_11eb_9412_0242ac1c0002row0_col6\" class=\"data row0 col6\" >17.000000</td>\n",
              "            </tr>\n",
              "            <tr>\n",
              "                        <th id=\"T_50ecd934_ff13_11eb_9412_0242ac1c0002level0_row1\" class=\"row_heading level0 row1\" >Plasma glucose concentration a 2 hours in an oral glucose tolerance test</th>\n",
              "                        <td id=\"T_50ecd934_ff13_11eb_9412_0242ac1c0002row1_col0\" class=\"data row1 col0\" >120.894531</td>\n",
              "                        <td id=\"T_50ecd934_ff13_11eb_9412_0242ac1c0002row1_col1\" class=\"data row1 col1\" >31.972618</td>\n",
              "                        <td id=\"T_50ecd934_ff13_11eb_9412_0242ac1c0002row1_col2\" class=\"data row1 col2\" >0.000000</td>\n",
              "                        <td id=\"T_50ecd934_ff13_11eb_9412_0242ac1c0002row1_col3\" class=\"data row1 col3\" >99.000000</td>\n",
              "                        <td id=\"T_50ecd934_ff13_11eb_9412_0242ac1c0002row1_col4\" class=\"data row1 col4\" >117.000000</td>\n",
              "                        <td id=\"T_50ecd934_ff13_11eb_9412_0242ac1c0002row1_col5\" class=\"data row1 col5\" >140.250000</td>\n",
              "                        <td id=\"T_50ecd934_ff13_11eb_9412_0242ac1c0002row1_col6\" class=\"data row1 col6\" >199.000000</td>\n",
              "            </tr>\n",
              "            <tr>\n",
              "                        <th id=\"T_50ecd934_ff13_11eb_9412_0242ac1c0002level0_row2\" class=\"row_heading level0 row2\" >Diastolic blood pressure (mm Hg)</th>\n",
              "                        <td id=\"T_50ecd934_ff13_11eb_9412_0242ac1c0002row2_col0\" class=\"data row2 col0\" >69.105469</td>\n",
              "                        <td id=\"T_50ecd934_ff13_11eb_9412_0242ac1c0002row2_col1\" class=\"data row2 col1\" >19.355807</td>\n",
              "                        <td id=\"T_50ecd934_ff13_11eb_9412_0242ac1c0002row2_col2\" class=\"data row2 col2\" >0.000000</td>\n",
              "                        <td id=\"T_50ecd934_ff13_11eb_9412_0242ac1c0002row2_col3\" class=\"data row2 col3\" >62.000000</td>\n",
              "                        <td id=\"T_50ecd934_ff13_11eb_9412_0242ac1c0002row2_col4\" class=\"data row2 col4\" >72.000000</td>\n",
              "                        <td id=\"T_50ecd934_ff13_11eb_9412_0242ac1c0002row2_col5\" class=\"data row2 col5\" >80.000000</td>\n",
              "                        <td id=\"T_50ecd934_ff13_11eb_9412_0242ac1c0002row2_col6\" class=\"data row2 col6\" >122.000000</td>\n",
              "            </tr>\n",
              "            <tr>\n",
              "                        <th id=\"T_50ecd934_ff13_11eb_9412_0242ac1c0002level0_row3\" class=\"row_heading level0 row3\" >Triceps skin fold thickness (mm)</th>\n",
              "                        <td id=\"T_50ecd934_ff13_11eb_9412_0242ac1c0002row3_col0\" class=\"data row3 col0\" >20.536458</td>\n",
              "                        <td id=\"T_50ecd934_ff13_11eb_9412_0242ac1c0002row3_col1\" class=\"data row3 col1\" >15.952218</td>\n",
              "                        <td id=\"T_50ecd934_ff13_11eb_9412_0242ac1c0002row3_col2\" class=\"data row3 col2\" >0.000000</td>\n",
              "                        <td id=\"T_50ecd934_ff13_11eb_9412_0242ac1c0002row3_col3\" class=\"data row3 col3\" >0.000000</td>\n",
              "                        <td id=\"T_50ecd934_ff13_11eb_9412_0242ac1c0002row3_col4\" class=\"data row3 col4\" >23.000000</td>\n",
              "                        <td id=\"T_50ecd934_ff13_11eb_9412_0242ac1c0002row3_col5\" class=\"data row3 col5\" >32.000000</td>\n",
              "                        <td id=\"T_50ecd934_ff13_11eb_9412_0242ac1c0002row3_col6\" class=\"data row3 col6\" >99.000000</td>\n",
              "            </tr>\n",
              "            <tr>\n",
              "                        <th id=\"T_50ecd934_ff13_11eb_9412_0242ac1c0002level0_row4\" class=\"row_heading level0 row4\" >2-Hour serum insulin (mu U/ml)</th>\n",
              "                        <td id=\"T_50ecd934_ff13_11eb_9412_0242ac1c0002row4_col0\" class=\"data row4 col0\" >79.799479</td>\n",
              "                        <td id=\"T_50ecd934_ff13_11eb_9412_0242ac1c0002row4_col1\" class=\"data row4 col1\" >115.244002</td>\n",
              "                        <td id=\"T_50ecd934_ff13_11eb_9412_0242ac1c0002row4_col2\" class=\"data row4 col2\" >0.000000</td>\n",
              "                        <td id=\"T_50ecd934_ff13_11eb_9412_0242ac1c0002row4_col3\" class=\"data row4 col3\" >0.000000</td>\n",
              "                        <td id=\"T_50ecd934_ff13_11eb_9412_0242ac1c0002row4_col4\" class=\"data row4 col4\" >30.500000</td>\n",
              "                        <td id=\"T_50ecd934_ff13_11eb_9412_0242ac1c0002row4_col5\" class=\"data row4 col5\" >127.250000</td>\n",
              "                        <td id=\"T_50ecd934_ff13_11eb_9412_0242ac1c0002row4_col6\" class=\"data row4 col6\" >846.000000</td>\n",
              "            </tr>\n",
              "            <tr>\n",
              "                        <th id=\"T_50ecd934_ff13_11eb_9412_0242ac1c0002level0_row5\" class=\"row_heading level0 row5\" >Body mass index (weight in kg/(height in m)^2)</th>\n",
              "                        <td id=\"T_50ecd934_ff13_11eb_9412_0242ac1c0002row5_col0\" class=\"data row5 col0\" >31.992578</td>\n",
              "                        <td id=\"T_50ecd934_ff13_11eb_9412_0242ac1c0002row5_col1\" class=\"data row5 col1\" >7.884160</td>\n",
              "                        <td id=\"T_50ecd934_ff13_11eb_9412_0242ac1c0002row5_col2\" class=\"data row5 col2\" >0.000000</td>\n",
              "                        <td id=\"T_50ecd934_ff13_11eb_9412_0242ac1c0002row5_col3\" class=\"data row5 col3\" >27.300000</td>\n",
              "                        <td id=\"T_50ecd934_ff13_11eb_9412_0242ac1c0002row5_col4\" class=\"data row5 col4\" >32.000000</td>\n",
              "                        <td id=\"T_50ecd934_ff13_11eb_9412_0242ac1c0002row5_col5\" class=\"data row5 col5\" >36.600000</td>\n",
              "                        <td id=\"T_50ecd934_ff13_11eb_9412_0242ac1c0002row5_col6\" class=\"data row5 col6\" >67.100000</td>\n",
              "            </tr>\n",
              "            <tr>\n",
              "                        <th id=\"T_50ecd934_ff13_11eb_9412_0242ac1c0002level0_row6\" class=\"row_heading level0 row6\" >Diabetes pedigree function</th>\n",
              "                        <td id=\"T_50ecd934_ff13_11eb_9412_0242ac1c0002row6_col0\" class=\"data row6 col0\" >0.471876</td>\n",
              "                        <td id=\"T_50ecd934_ff13_11eb_9412_0242ac1c0002row6_col1\" class=\"data row6 col1\" >0.331329</td>\n",
              "                        <td id=\"T_50ecd934_ff13_11eb_9412_0242ac1c0002row6_col2\" class=\"data row6 col2\" >0.078000</td>\n",
              "                        <td id=\"T_50ecd934_ff13_11eb_9412_0242ac1c0002row6_col3\" class=\"data row6 col3\" >0.243750</td>\n",
              "                        <td id=\"T_50ecd934_ff13_11eb_9412_0242ac1c0002row6_col4\" class=\"data row6 col4\" >0.372500</td>\n",
              "                        <td id=\"T_50ecd934_ff13_11eb_9412_0242ac1c0002row6_col5\" class=\"data row6 col5\" >0.626250</td>\n",
              "                        <td id=\"T_50ecd934_ff13_11eb_9412_0242ac1c0002row6_col6\" class=\"data row6 col6\" >2.420000</td>\n",
              "            </tr>\n",
              "            <tr>\n",
              "                        <th id=\"T_50ecd934_ff13_11eb_9412_0242ac1c0002level0_row7\" class=\"row_heading level0 row7\" >Age (years)</th>\n",
              "                        <td id=\"T_50ecd934_ff13_11eb_9412_0242ac1c0002row7_col0\" class=\"data row7 col0\" >33.240885</td>\n",
              "                        <td id=\"T_50ecd934_ff13_11eb_9412_0242ac1c0002row7_col1\" class=\"data row7 col1\" >11.760232</td>\n",
              "                        <td id=\"T_50ecd934_ff13_11eb_9412_0242ac1c0002row7_col2\" class=\"data row7 col2\" >21.000000</td>\n",
              "                        <td id=\"T_50ecd934_ff13_11eb_9412_0242ac1c0002row7_col3\" class=\"data row7 col3\" >24.000000</td>\n",
              "                        <td id=\"T_50ecd934_ff13_11eb_9412_0242ac1c0002row7_col4\" class=\"data row7 col4\" >29.000000</td>\n",
              "                        <td id=\"T_50ecd934_ff13_11eb_9412_0242ac1c0002row7_col5\" class=\"data row7 col5\" >41.000000</td>\n",
              "                        <td id=\"T_50ecd934_ff13_11eb_9412_0242ac1c0002row7_col6\" class=\"data row7 col6\" >81.000000</td>\n",
              "            </tr>\n",
              "            <tr>\n",
              "                        <th id=\"T_50ecd934_ff13_11eb_9412_0242ac1c0002level0_row8\" class=\"row_heading level0 row8\" >Class variable</th>\n",
              "                        <td id=\"T_50ecd934_ff13_11eb_9412_0242ac1c0002row8_col0\" class=\"data row8 col0\" >0.348958</td>\n",
              "                        <td id=\"T_50ecd934_ff13_11eb_9412_0242ac1c0002row8_col1\" class=\"data row8 col1\" >0.476951</td>\n",
              "                        <td id=\"T_50ecd934_ff13_11eb_9412_0242ac1c0002row8_col2\" class=\"data row8 col2\" >0.000000</td>\n",
              "                        <td id=\"T_50ecd934_ff13_11eb_9412_0242ac1c0002row8_col3\" class=\"data row8 col3\" >0.000000</td>\n",
              "                        <td id=\"T_50ecd934_ff13_11eb_9412_0242ac1c0002row8_col4\" class=\"data row8 col4\" >0.000000</td>\n",
              "                        <td id=\"T_50ecd934_ff13_11eb_9412_0242ac1c0002row8_col5\" class=\"data row8 col5\" >1.000000</td>\n",
              "                        <td id=\"T_50ecd934_ff13_11eb_9412_0242ac1c0002row8_col6\" class=\"data row8 col6\" >1.000000</td>\n",
              "            </tr>\n",
              "    </tbody></table>"
            ],
            "text/plain": [
              "<pandas.io.formats.style.Styler at 0x7f1b75661f10>"
            ]
          },
          "metadata": {
            "tags": []
          },
          "execution_count": 22
        }
      ]
    },
    {
      "cell_type": "markdown",
      "metadata": {
        "id": "-T7YfWE3e3_9"
      },
      "source": [
        "# "
      ]
    },
    {
      "cell_type": "code",
      "metadata": {
        "colab": {
          "base_uri": "https://localhost:8080/"
        },
        "id": "YLsqZWtTMixI",
        "outputId": "f8ce7249-09c3-4187-a62d-0710531e3663"
      },
      "source": [
        "dir(pd.options)"
      ],
      "execution_count": 23,
      "outputs": [
        {
          "output_type": "execute_result",
          "data": {
            "text/plain": [
              "['compute', 'display', 'io', 'mode', 'plotting']"
            ]
          },
          "metadata": {
            "tags": []
          },
          "execution_count": 23
        }
      ]
    },
    {
      "cell_type": "code",
      "metadata": {
        "colab": {
          "base_uri": "https://localhost:8080/"
        },
        "id": "Qz-xJJIDCaBs",
        "outputId": "8c285b2d-117a-48ff-a9bd-a990a33d2f9e"
      },
      "source": [
        "dir(pd.options.display)"
      ],
      "execution_count": 24,
      "outputs": [
        {
          "output_type": "execute_result",
          "data": {
            "text/plain": [
              "['chop_threshold',\n",
              " 'colheader_justify',\n",
              " 'column_space',\n",
              " 'date_dayfirst',\n",
              " 'date_yearfirst',\n",
              " 'encoding',\n",
              " 'expand_frame_repr',\n",
              " 'float_format',\n",
              " 'html',\n",
              " 'large_repr',\n",
              " 'latex',\n",
              " 'max_categories',\n",
              " 'max_columns',\n",
              " 'max_colwidth',\n",
              " 'max_info_columns',\n",
              " 'max_info_rows',\n",
              " 'max_rows',\n",
              " 'max_seq_items',\n",
              " 'memory_usage',\n",
              " 'min_rows',\n",
              " 'multi_sparse',\n",
              " 'notebook_repr_html',\n",
              " 'pprint_nest_depth',\n",
              " 'precision',\n",
              " 'show_dimensions',\n",
              " 'unicode',\n",
              " 'width']"
            ]
          },
          "metadata": {
            "tags": []
          },
          "execution_count": 24
        }
      ]
    },
    {
      "cell_type": "code",
      "metadata": {
        "colab": {
          "base_uri": "https://localhost:8080/"
        },
        "id": "pnaqnC4_CZ-n",
        "outputId": "dd07f5e8-50a8-4813-a37b-26a54df2b73c"
      },
      "source": [
        "pd.options.display.max_columns"
      ],
      "execution_count": 25,
      "outputs": [
        {
          "output_type": "execute_result",
          "data": {
            "text/plain": [
              "0"
            ]
          },
          "metadata": {
            "tags": []
          },
          "execution_count": 25
        }
      ]
    },
    {
      "cell_type": "markdown",
      "metadata": {
        "id": "C_wPCo0-Xt1T"
      },
      "source": [
        "There are many options under `display` but I mostly use `max_columns` and precision:"
      ]
    },
    {
      "cell_type": "code",
      "metadata": {
        "id": "BXwm1lG8CZ7l"
      },
      "source": [
        " # Remove the limit to display the number of cols\n",
        "pd.options.display.max_columns = None\n",
        "\n",
        "# Only show 5 numbers after the decimal\n",
        "pd.options.display.precision = 5  # gets rid of scientific notation"
      ],
      "execution_count": 26,
      "outputs": []
    },
    {
      "cell_type": "markdown",
      "metadata": {
        "id": "MREuDC-LZo4v"
      },
      "source": [
        "# convert_dtypes\n",
        "\n",
        "自动convert object to string，虽然我也不知道为啥不好使"
      ]
    },
    {
      "cell_type": "code",
      "metadata": {
        "colab": {
          "base_uri": "https://localhost:8080/",
          "height": 204
        },
        "id": "FqQnRxSian8D",
        "outputId": "062bf055-014e-4e5f-d092-88a6748003ad"
      },
      "source": [
        "diamonds.head()"
      ],
      "execution_count": 34,
      "outputs": [
        {
          "output_type": "execute_result",
          "data": {
            "text/html": [
              "<div>\n",
              "<style scoped>\n",
              "    .dataframe tbody tr th:only-of-type {\n",
              "        vertical-align: middle;\n",
              "    }\n",
              "\n",
              "    .dataframe tbody tr th {\n",
              "        vertical-align: top;\n",
              "    }\n",
              "\n",
              "    .dataframe thead th {\n",
              "        text-align: right;\n",
              "    }\n",
              "</style>\n",
              "<table border=\"1\" class=\"dataframe\">\n",
              "  <thead>\n",
              "    <tr style=\"text-align: right;\">\n",
              "      <th></th>\n",
              "      <th>carat</th>\n",
              "      <th>cut</th>\n",
              "      <th>color</th>\n",
              "      <th>clarity</th>\n",
              "      <th>depth</th>\n",
              "      <th>table</th>\n",
              "      <th>price</th>\n",
              "      <th>x</th>\n",
              "      <th>y</th>\n",
              "      <th>z</th>\n",
              "      <th>cut_enc</th>\n",
              "    </tr>\n",
              "  </thead>\n",
              "  <tbody>\n",
              "    <tr>\n",
              "      <th>0</th>\n",
              "      <td>0.23</td>\n",
              "      <td>Ideal</td>\n",
              "      <td>E</td>\n",
              "      <td>SI2</td>\n",
              "      <td>61.5</td>\n",
              "      <td>55.0</td>\n",
              "      <td>326</td>\n",
              "      <td>3.95</td>\n",
              "      <td>3.98</td>\n",
              "      <td>2.43</td>\n",
              "      <td>0</td>\n",
              "    </tr>\n",
              "    <tr>\n",
              "      <th>1</th>\n",
              "      <td>0.21</td>\n",
              "      <td>Premium</td>\n",
              "      <td>E</td>\n",
              "      <td>SI1</td>\n",
              "      <td>59.8</td>\n",
              "      <td>61.0</td>\n",
              "      <td>326</td>\n",
              "      <td>3.89</td>\n",
              "      <td>3.84</td>\n",
              "      <td>2.31</td>\n",
              "      <td>1</td>\n",
              "    </tr>\n",
              "    <tr>\n",
              "      <th>2</th>\n",
              "      <td>0.23</td>\n",
              "      <td>Good</td>\n",
              "      <td>E</td>\n",
              "      <td>VS1</td>\n",
              "      <td>56.9</td>\n",
              "      <td>65.0</td>\n",
              "      <td>327</td>\n",
              "      <td>4.05</td>\n",
              "      <td>4.07</td>\n",
              "      <td>2.31</td>\n",
              "      <td>2</td>\n",
              "    </tr>\n",
              "    <tr>\n",
              "      <th>3</th>\n",
              "      <td>0.29</td>\n",
              "      <td>Premium</td>\n",
              "      <td>I</td>\n",
              "      <td>VS2</td>\n",
              "      <td>62.4</td>\n",
              "      <td>58.0</td>\n",
              "      <td>334</td>\n",
              "      <td>4.20</td>\n",
              "      <td>4.23</td>\n",
              "      <td>2.63</td>\n",
              "      <td>1</td>\n",
              "    </tr>\n",
              "    <tr>\n",
              "      <th>4</th>\n",
              "      <td>0.31</td>\n",
              "      <td>Good</td>\n",
              "      <td>J</td>\n",
              "      <td>SI2</td>\n",
              "      <td>63.3</td>\n",
              "      <td>58.0</td>\n",
              "      <td>335</td>\n",
              "      <td>4.34</td>\n",
              "      <td>4.35</td>\n",
              "      <td>2.75</td>\n",
              "      <td>2</td>\n",
              "    </tr>\n",
              "  </tbody>\n",
              "</table>\n",
              "</div>"
            ],
            "text/plain": [
              "   carat      cut color clarity  depth  table  price     x     y     z  \\\n",
              "0   0.23    Ideal     E     SI2   61.5   55.0    326  3.95  3.98  2.43   \n",
              "1   0.21  Premium     E     SI1   59.8   61.0    326  3.89  3.84  2.31   \n",
              "2   0.23     Good     E     VS1   56.9   65.0    327  4.05  4.07  2.31   \n",
              "3   0.29  Premium     I     VS2   62.4   58.0    334  4.20  4.23  2.63   \n",
              "4   0.31     Good     J     SI2   63.3   58.0    335  4.34  4.35  2.75   \n",
              "\n",
              "   cut_enc  \n",
              "0        0  \n",
              "1        1  \n",
              "2        2  \n",
              "3        1  \n",
              "4        2  "
            ]
          },
          "metadata": {
            "tags": []
          },
          "execution_count": 34
        }
      ]
    },
    {
      "cell_type": "code",
      "metadata": {
        "colab": {
          "base_uri": "https://localhost:8080/"
        },
        "id": "kA8mv2EYZW_g",
        "outputId": "93a2cfdc-a62c-4b46-a36b-f70a0d71cb78"
      },
      "source": [
        "diamonds.dtypes"
      ],
      "execution_count": 31,
      "outputs": [
        {
          "output_type": "execute_result",
          "data": {
            "text/plain": [
              "carat       float64\n",
              "cut        category\n",
              "color      category\n",
              "clarity    category\n",
              "depth       float64\n",
              "table       float64\n",
              "price         int64\n",
              "x           float64\n",
              "y           float64\n",
              "z           float64\n",
              "cut_enc       int64\n",
              "dtype: object"
            ]
          },
          "metadata": {
            "tags": []
          },
          "execution_count": 31
        }
      ]
    },
    {
      "cell_type": "code",
      "metadata": {
        "colab": {
          "base_uri": "https://localhost:8080/"
        },
        "id": "Nxv1O27cZW0v",
        "outputId": "e2f16a5c-da4b-4065-c55e-5c1ce263c774"
      },
      "source": [
        "diamonds.convert_dtypes().dtypes"
      ],
      "execution_count": 32,
      "outputs": [
        {
          "output_type": "execute_result",
          "data": {
            "text/plain": [
              "carat       float64\n",
              "cut        category\n",
              "color      category\n",
              "clarity    category\n",
              "depth       float64\n",
              "table       float64\n",
              "price         Int64\n",
              "x           float64\n",
              "y           float64\n",
              "z           float64\n",
              "cut_enc       Int64\n",
              "dtype: object"
            ]
          },
          "metadata": {
            "tags": []
          },
          "execution_count": 32
        }
      ]
    },
    {
      "cell_type": "markdown",
      "metadata": {
        "id": "hVbORl2KbOA_"
      },
      "source": [
        "# select_dtypes\n",
        "\n",
        "选择type为number的column，当然也可以选择type不为number的column"
      ]
    },
    {
      "cell_type": "code",
      "metadata": {
        "colab": {
          "base_uri": "https://localhost:8080/",
          "height": 204
        },
        "id": "S2mb_nCpCZ6J",
        "outputId": "9aad6ba0-739c-4cc7-a40c-f9d83d681764"
      },
      "source": [
        "# Choose only numerical columns\n",
        "diamonds.select_dtypes(include=np.number).head()"
      ],
      "execution_count": 37,
      "outputs": [
        {
          "output_type": "execute_result",
          "data": {
            "text/html": [
              "<div>\n",
              "<style scoped>\n",
              "    .dataframe tbody tr th:only-of-type {\n",
              "        vertical-align: middle;\n",
              "    }\n",
              "\n",
              "    .dataframe tbody tr th {\n",
              "        vertical-align: top;\n",
              "    }\n",
              "\n",
              "    .dataframe thead th {\n",
              "        text-align: right;\n",
              "    }\n",
              "</style>\n",
              "<table border=\"1\" class=\"dataframe\">\n",
              "  <thead>\n",
              "    <tr style=\"text-align: right;\">\n",
              "      <th></th>\n",
              "      <th>carat</th>\n",
              "      <th>depth</th>\n",
              "      <th>table</th>\n",
              "      <th>price</th>\n",
              "      <th>x</th>\n",
              "      <th>y</th>\n",
              "      <th>z</th>\n",
              "      <th>cut_enc</th>\n",
              "    </tr>\n",
              "  </thead>\n",
              "  <tbody>\n",
              "    <tr>\n",
              "      <th>0</th>\n",
              "      <td>0.23</td>\n",
              "      <td>61.5</td>\n",
              "      <td>55.0</td>\n",
              "      <td>326</td>\n",
              "      <td>3.95</td>\n",
              "      <td>3.98</td>\n",
              "      <td>2.43</td>\n",
              "      <td>0</td>\n",
              "    </tr>\n",
              "    <tr>\n",
              "      <th>1</th>\n",
              "      <td>0.21</td>\n",
              "      <td>59.8</td>\n",
              "      <td>61.0</td>\n",
              "      <td>326</td>\n",
              "      <td>3.89</td>\n",
              "      <td>3.84</td>\n",
              "      <td>2.31</td>\n",
              "      <td>1</td>\n",
              "    </tr>\n",
              "    <tr>\n",
              "      <th>2</th>\n",
              "      <td>0.23</td>\n",
              "      <td>56.9</td>\n",
              "      <td>65.0</td>\n",
              "      <td>327</td>\n",
              "      <td>4.05</td>\n",
              "      <td>4.07</td>\n",
              "      <td>2.31</td>\n",
              "      <td>2</td>\n",
              "    </tr>\n",
              "    <tr>\n",
              "      <th>3</th>\n",
              "      <td>0.29</td>\n",
              "      <td>62.4</td>\n",
              "      <td>58.0</td>\n",
              "      <td>334</td>\n",
              "      <td>4.20</td>\n",
              "      <td>4.23</td>\n",
              "      <td>2.63</td>\n",
              "      <td>1</td>\n",
              "    </tr>\n",
              "    <tr>\n",
              "      <th>4</th>\n",
              "      <td>0.31</td>\n",
              "      <td>63.3</td>\n",
              "      <td>58.0</td>\n",
              "      <td>335</td>\n",
              "      <td>4.34</td>\n",
              "      <td>4.35</td>\n",
              "      <td>2.75</td>\n",
              "      <td>2</td>\n",
              "    </tr>\n",
              "  </tbody>\n",
              "</table>\n",
              "</div>"
            ],
            "text/plain": [
              "   carat  depth  table  price     x     y     z  cut_enc\n",
              "0   0.23   61.5   55.0    326  3.95  3.98  2.43        0\n",
              "1   0.21   59.8   61.0    326  3.89  3.84  2.31        1\n",
              "2   0.23   56.9   65.0    327  4.05  4.07  2.31        2\n",
              "3   0.29   62.4   58.0    334  4.20  4.23  2.63        1\n",
              "4   0.31   63.3   58.0    335  4.34  4.35  2.75        2"
            ]
          },
          "metadata": {
            "tags": []
          },
          "execution_count": 37
        }
      ]
    },
    {
      "cell_type": "code",
      "metadata": {
        "colab": {
          "base_uri": "https://localhost:8080/",
          "height": 204
        },
        "id": "jDlIO6jtcLhz",
        "outputId": "f4f3fd5a-3b99-425e-e57e-822068e7638e"
      },
      "source": [
        "# Exclude numerical columns\n",
        "diamonds.select_dtypes(exclude=np.number).head()"
      ],
      "execution_count": 38,
      "outputs": [
        {
          "output_type": "execute_result",
          "data": {
            "text/html": [
              "<div>\n",
              "<style scoped>\n",
              "    .dataframe tbody tr th:only-of-type {\n",
              "        vertical-align: middle;\n",
              "    }\n",
              "\n",
              "    .dataframe tbody tr th {\n",
              "        vertical-align: top;\n",
              "    }\n",
              "\n",
              "    .dataframe thead th {\n",
              "        text-align: right;\n",
              "    }\n",
              "</style>\n",
              "<table border=\"1\" class=\"dataframe\">\n",
              "  <thead>\n",
              "    <tr style=\"text-align: right;\">\n",
              "      <th></th>\n",
              "      <th>cut</th>\n",
              "      <th>color</th>\n",
              "      <th>clarity</th>\n",
              "    </tr>\n",
              "  </thead>\n",
              "  <tbody>\n",
              "    <tr>\n",
              "      <th>0</th>\n",
              "      <td>Ideal</td>\n",
              "      <td>E</td>\n",
              "      <td>SI2</td>\n",
              "    </tr>\n",
              "    <tr>\n",
              "      <th>1</th>\n",
              "      <td>Premium</td>\n",
              "      <td>E</td>\n",
              "      <td>SI1</td>\n",
              "    </tr>\n",
              "    <tr>\n",
              "      <th>2</th>\n",
              "      <td>Good</td>\n",
              "      <td>E</td>\n",
              "      <td>VS1</td>\n",
              "    </tr>\n",
              "    <tr>\n",
              "      <th>3</th>\n",
              "      <td>Premium</td>\n",
              "      <td>I</td>\n",
              "      <td>VS2</td>\n",
              "    </tr>\n",
              "    <tr>\n",
              "      <th>4</th>\n",
              "      <td>Good</td>\n",
              "      <td>J</td>\n",
              "      <td>SI2</td>\n",
              "    </tr>\n",
              "  </tbody>\n",
              "</table>\n",
              "</div>"
            ],
            "text/plain": [
              "       cut color clarity\n",
              "0    Ideal     E     SI2\n",
              "1  Premium     E     SI1\n",
              "2     Good     E     VS1\n",
              "3  Premium     I     VS2\n",
              "4     Good     J     SI2"
            ]
          },
          "metadata": {
            "tags": []
          },
          "execution_count": 38
        }
      ]
    },
    {
      "cell_type": "markdown",
      "metadata": {
        "id": "Qx8XZTjJck2U"
      },
      "source": [
        "# mask\n",
        "\n",
        "让你迅速的将不符合条件的值转变为其他值"
      ]
    },
    {
      "cell_type": "code",
      "metadata": {
        "colab": {
          "base_uri": "https://localhost:8080/",
          "height": 297
        },
        "id": "QHIrOmbEcLfw",
        "outputId": "3dd821d0-dcd9-4b65-d7d6-eaa190003123"
      },
      "source": [
        "# Create sample data\n",
        "ages = pd.Series([55, 52, 50, 66, 57, 59, 49, 60]).to_frame(\"ages\")\n",
        "\n",
        "ages"
      ],
      "execution_count": 39,
      "outputs": [
        {
          "output_type": "execute_result",
          "data": {
            "text/html": [
              "<div>\n",
              "<style scoped>\n",
              "    .dataframe tbody tr th:only-of-type {\n",
              "        vertical-align: middle;\n",
              "    }\n",
              "\n",
              "    .dataframe tbody tr th {\n",
              "        vertical-align: top;\n",
              "    }\n",
              "\n",
              "    .dataframe thead th {\n",
              "        text-align: right;\n",
              "    }\n",
              "</style>\n",
              "<table border=\"1\" class=\"dataframe\">\n",
              "  <thead>\n",
              "    <tr style=\"text-align: right;\">\n",
              "      <th></th>\n",
              "      <th>ages</th>\n",
              "    </tr>\n",
              "  </thead>\n",
              "  <tbody>\n",
              "    <tr>\n",
              "      <th>0</th>\n",
              "      <td>55</td>\n",
              "    </tr>\n",
              "    <tr>\n",
              "      <th>1</th>\n",
              "      <td>52</td>\n",
              "    </tr>\n",
              "    <tr>\n",
              "      <th>2</th>\n",
              "      <td>50</td>\n",
              "    </tr>\n",
              "    <tr>\n",
              "      <th>3</th>\n",
              "      <td>66</td>\n",
              "    </tr>\n",
              "    <tr>\n",
              "      <th>4</th>\n",
              "      <td>57</td>\n",
              "    </tr>\n",
              "    <tr>\n",
              "      <th>5</th>\n",
              "      <td>59</td>\n",
              "    </tr>\n",
              "    <tr>\n",
              "      <th>6</th>\n",
              "      <td>49</td>\n",
              "    </tr>\n",
              "    <tr>\n",
              "      <th>7</th>\n",
              "      <td>60</td>\n",
              "    </tr>\n",
              "  </tbody>\n",
              "</table>\n",
              "</div>"
            ],
            "text/plain": [
              "   ages\n",
              "0    55\n",
              "1    52\n",
              "2    50\n",
              "3    66\n",
              "4    57\n",
              "5    59\n",
              "6    49\n",
              "7    60"
            ]
          },
          "metadata": {
            "tags": []
          },
          "execution_count": 39
        }
      ]
    },
    {
      "cell_type": "code",
      "metadata": {
        "colab": {
          "base_uri": "https://localhost:8080/",
          "height": 297
        },
        "id": "Zjg_cy5UcLeY",
        "outputId": "2a8de3ae-c282-4369-da15-ac263555ae64"
      },
      "source": [
        "ages.mask(cond=~ages[\"ages\"].between(50, 60), other=np.nan)"
      ],
      "execution_count": 40,
      "outputs": [
        {
          "output_type": "execute_result",
          "data": {
            "text/html": [
              "<div>\n",
              "<style scoped>\n",
              "    .dataframe tbody tr th:only-of-type {\n",
              "        vertical-align: middle;\n",
              "    }\n",
              "\n",
              "    .dataframe tbody tr th {\n",
              "        vertical-align: top;\n",
              "    }\n",
              "\n",
              "    .dataframe thead th {\n",
              "        text-align: right;\n",
              "    }\n",
              "</style>\n",
              "<table border=\"1\" class=\"dataframe\">\n",
              "  <thead>\n",
              "    <tr style=\"text-align: right;\">\n",
              "      <th></th>\n",
              "      <th>ages</th>\n",
              "    </tr>\n",
              "  </thead>\n",
              "  <tbody>\n",
              "    <tr>\n",
              "      <th>0</th>\n",
              "      <td>55.0</td>\n",
              "    </tr>\n",
              "    <tr>\n",
              "      <th>1</th>\n",
              "      <td>52.0</td>\n",
              "    </tr>\n",
              "    <tr>\n",
              "      <th>2</th>\n",
              "      <td>50.0</td>\n",
              "    </tr>\n",
              "    <tr>\n",
              "      <th>3</th>\n",
              "      <td>NaN</td>\n",
              "    </tr>\n",
              "    <tr>\n",
              "      <th>4</th>\n",
              "      <td>57.0</td>\n",
              "    </tr>\n",
              "    <tr>\n",
              "      <th>5</th>\n",
              "      <td>59.0</td>\n",
              "    </tr>\n",
              "    <tr>\n",
              "      <th>6</th>\n",
              "      <td>NaN</td>\n",
              "    </tr>\n",
              "    <tr>\n",
              "      <th>7</th>\n",
              "      <td>60.0</td>\n",
              "    </tr>\n",
              "  </tbody>\n",
              "</table>\n",
              "</div>"
            ],
            "text/plain": [
              "   ages\n",
              "0  55.0\n",
              "1  52.0\n",
              "2  50.0\n",
              "3   NaN\n",
              "4  57.0\n",
              "5  59.0\n",
              "6   NaN\n",
              "7  60.0"
            ]
          },
          "metadata": {
            "tags": []
          },
          "execution_count": 40
        }
      ]
    },
    {
      "cell_type": "markdown",
      "metadata": {
        "id": "wzauUyo1dO65"
      },
      "source": [
        "# nlargest & nsmallest"
      ]
    },
    {
      "cell_type": "code",
      "metadata": {
        "colab": {
          "base_uri": "https://localhost:8080/",
          "height": 204
        },
        "id": "OODZkmzecLbs",
        "outputId": "262a5bc1-18b4-43cf-df9d-8b2fa4d4b1ca"
      },
      "source": [
        "diamonds.nlargest(5, \"price\")"
      ],
      "execution_count": 41,
      "outputs": [
        {
          "output_type": "execute_result",
          "data": {
            "text/html": [
              "<div>\n",
              "<style scoped>\n",
              "    .dataframe tbody tr th:only-of-type {\n",
              "        vertical-align: middle;\n",
              "    }\n",
              "\n",
              "    .dataframe tbody tr th {\n",
              "        vertical-align: top;\n",
              "    }\n",
              "\n",
              "    .dataframe thead th {\n",
              "        text-align: right;\n",
              "    }\n",
              "</style>\n",
              "<table border=\"1\" class=\"dataframe\">\n",
              "  <thead>\n",
              "    <tr style=\"text-align: right;\">\n",
              "      <th></th>\n",
              "      <th>carat</th>\n",
              "      <th>cut</th>\n",
              "      <th>color</th>\n",
              "      <th>clarity</th>\n",
              "      <th>depth</th>\n",
              "      <th>table</th>\n",
              "      <th>price</th>\n",
              "      <th>x</th>\n",
              "      <th>y</th>\n",
              "      <th>z</th>\n",
              "      <th>cut_enc</th>\n",
              "    </tr>\n",
              "  </thead>\n",
              "  <tbody>\n",
              "    <tr>\n",
              "      <th>27749</th>\n",
              "      <td>2.29</td>\n",
              "      <td>Premium</td>\n",
              "      <td>I</td>\n",
              "      <td>VS2</td>\n",
              "      <td>60.8</td>\n",
              "      <td>60.0</td>\n",
              "      <td>18823</td>\n",
              "      <td>8.50</td>\n",
              "      <td>8.47</td>\n",
              "      <td>5.16</td>\n",
              "      <td>1</td>\n",
              "    </tr>\n",
              "    <tr>\n",
              "      <th>27748</th>\n",
              "      <td>2.00</td>\n",
              "      <td>Very Good</td>\n",
              "      <td>G</td>\n",
              "      <td>SI1</td>\n",
              "      <td>63.5</td>\n",
              "      <td>56.0</td>\n",
              "      <td>18818</td>\n",
              "      <td>7.90</td>\n",
              "      <td>7.97</td>\n",
              "      <td>5.04</td>\n",
              "      <td>3</td>\n",
              "    </tr>\n",
              "    <tr>\n",
              "      <th>27747</th>\n",
              "      <td>1.51</td>\n",
              "      <td>Ideal</td>\n",
              "      <td>G</td>\n",
              "      <td>IF</td>\n",
              "      <td>61.7</td>\n",
              "      <td>55.0</td>\n",
              "      <td>18806</td>\n",
              "      <td>7.37</td>\n",
              "      <td>7.41</td>\n",
              "      <td>4.56</td>\n",
              "      <td>0</td>\n",
              "    </tr>\n",
              "    <tr>\n",
              "      <th>27746</th>\n",
              "      <td>2.07</td>\n",
              "      <td>Ideal</td>\n",
              "      <td>G</td>\n",
              "      <td>SI2</td>\n",
              "      <td>62.5</td>\n",
              "      <td>55.0</td>\n",
              "      <td>18804</td>\n",
              "      <td>8.20</td>\n",
              "      <td>8.13</td>\n",
              "      <td>5.11</td>\n",
              "      <td>0</td>\n",
              "    </tr>\n",
              "    <tr>\n",
              "      <th>27745</th>\n",
              "      <td>2.00</td>\n",
              "      <td>Very Good</td>\n",
              "      <td>H</td>\n",
              "      <td>SI1</td>\n",
              "      <td>62.8</td>\n",
              "      <td>57.0</td>\n",
              "      <td>18803</td>\n",
              "      <td>7.95</td>\n",
              "      <td>8.00</td>\n",
              "      <td>5.01</td>\n",
              "      <td>3</td>\n",
              "    </tr>\n",
              "  </tbody>\n",
              "</table>\n",
              "</div>"
            ],
            "text/plain": [
              "       carat        cut color clarity  depth  table  price     x     y     z  \\\n",
              "27749   2.29    Premium     I     VS2   60.8   60.0  18823  8.50  8.47  5.16   \n",
              "27748   2.00  Very Good     G     SI1   63.5   56.0  18818  7.90  7.97  5.04   \n",
              "27747   1.51      Ideal     G      IF   61.7   55.0  18806  7.37  7.41  4.56   \n",
              "27746   2.07      Ideal     G     SI2   62.5   55.0  18804  8.20  8.13  5.11   \n",
              "27745   2.00  Very Good     H     SI1   62.8   57.0  18803  7.95  8.00  5.01   \n",
              "\n",
              "       cut_enc  \n",
              "27749        1  \n",
              "27748        3  \n",
              "27747        0  \n",
              "27746        0  \n",
              "27745        3  "
            ]
          },
          "metadata": {
            "tags": []
          },
          "execution_count": 41
        }
      ]
    },
    {
      "cell_type": "code",
      "metadata": {
        "colab": {
          "base_uri": "https://localhost:8080/",
          "height": 204
        },
        "id": "DPvFooX9cLZj",
        "outputId": "ae5e8d6a-c237-47ef-ced4-852fcd0457d6"
      },
      "source": [
        "diamonds.nsmallest(5, \"price\")"
      ],
      "execution_count": 42,
      "outputs": [
        {
          "output_type": "execute_result",
          "data": {
            "text/html": [
              "<div>\n",
              "<style scoped>\n",
              "    .dataframe tbody tr th:only-of-type {\n",
              "        vertical-align: middle;\n",
              "    }\n",
              "\n",
              "    .dataframe tbody tr th {\n",
              "        vertical-align: top;\n",
              "    }\n",
              "\n",
              "    .dataframe thead th {\n",
              "        text-align: right;\n",
              "    }\n",
              "</style>\n",
              "<table border=\"1\" class=\"dataframe\">\n",
              "  <thead>\n",
              "    <tr style=\"text-align: right;\">\n",
              "      <th></th>\n",
              "      <th>carat</th>\n",
              "      <th>cut</th>\n",
              "      <th>color</th>\n",
              "      <th>clarity</th>\n",
              "      <th>depth</th>\n",
              "      <th>table</th>\n",
              "      <th>price</th>\n",
              "      <th>x</th>\n",
              "      <th>y</th>\n",
              "      <th>z</th>\n",
              "      <th>cut_enc</th>\n",
              "    </tr>\n",
              "  </thead>\n",
              "  <tbody>\n",
              "    <tr>\n",
              "      <th>0</th>\n",
              "      <td>0.23</td>\n",
              "      <td>Ideal</td>\n",
              "      <td>E</td>\n",
              "      <td>SI2</td>\n",
              "      <td>61.5</td>\n",
              "      <td>55.0</td>\n",
              "      <td>326</td>\n",
              "      <td>3.95</td>\n",
              "      <td>3.98</td>\n",
              "      <td>2.43</td>\n",
              "      <td>0</td>\n",
              "    </tr>\n",
              "    <tr>\n",
              "      <th>1</th>\n",
              "      <td>0.21</td>\n",
              "      <td>Premium</td>\n",
              "      <td>E</td>\n",
              "      <td>SI1</td>\n",
              "      <td>59.8</td>\n",
              "      <td>61.0</td>\n",
              "      <td>326</td>\n",
              "      <td>3.89</td>\n",
              "      <td>3.84</td>\n",
              "      <td>2.31</td>\n",
              "      <td>1</td>\n",
              "    </tr>\n",
              "    <tr>\n",
              "      <th>2</th>\n",
              "      <td>0.23</td>\n",
              "      <td>Good</td>\n",
              "      <td>E</td>\n",
              "      <td>VS1</td>\n",
              "      <td>56.9</td>\n",
              "      <td>65.0</td>\n",
              "      <td>327</td>\n",
              "      <td>4.05</td>\n",
              "      <td>4.07</td>\n",
              "      <td>2.31</td>\n",
              "      <td>2</td>\n",
              "    </tr>\n",
              "    <tr>\n",
              "      <th>3</th>\n",
              "      <td>0.29</td>\n",
              "      <td>Premium</td>\n",
              "      <td>I</td>\n",
              "      <td>VS2</td>\n",
              "      <td>62.4</td>\n",
              "      <td>58.0</td>\n",
              "      <td>334</td>\n",
              "      <td>4.20</td>\n",
              "      <td>4.23</td>\n",
              "      <td>2.63</td>\n",
              "      <td>1</td>\n",
              "    </tr>\n",
              "    <tr>\n",
              "      <th>4</th>\n",
              "      <td>0.31</td>\n",
              "      <td>Good</td>\n",
              "      <td>J</td>\n",
              "      <td>SI2</td>\n",
              "      <td>63.3</td>\n",
              "      <td>58.0</td>\n",
              "      <td>335</td>\n",
              "      <td>4.34</td>\n",
              "      <td>4.35</td>\n",
              "      <td>2.75</td>\n",
              "      <td>2</td>\n",
              "    </tr>\n",
              "  </tbody>\n",
              "</table>\n",
              "</div>"
            ],
            "text/plain": [
              "   carat      cut color clarity  depth  table  price     x     y     z  \\\n",
              "0   0.23    Ideal     E     SI2   61.5   55.0    326  3.95  3.98  2.43   \n",
              "1   0.21  Premium     E     SI1   59.8   61.0    326  3.89  3.84  2.31   \n",
              "2   0.23     Good     E     VS1   56.9   65.0    327  4.05  4.07  2.31   \n",
              "3   0.29  Premium     I     VS2   62.4   58.0    334  4.20  4.23  2.63   \n",
              "4   0.31     Good     J     SI2   63.3   58.0    335  4.34  4.35  2.75   \n",
              "\n",
              "   cut_enc  \n",
              "0        0  \n",
              "1        1  \n",
              "2        2  \n",
              "3        1  \n",
              "4        2  "
            ]
          },
          "metadata": {
            "tags": []
          },
          "execution_count": 42
        }
      ]
    },
    {
      "cell_type": "markdown",
      "metadata": {
        "id": "8p7QE46TdZ-m"
      },
      "source": [
        "# idxmax & idxmin"
      ]
    },
    {
      "cell_type": "code",
      "metadata": {
        "colab": {
          "base_uri": "https://localhost:8080/"
        },
        "id": "bIIqJSIWcLWz",
        "outputId": "c145d022-ae68-45d5-c15b-5856355c5ad6"
      },
      "source": [
        "diamonds.price.idxmax()"
      ],
      "execution_count": 45,
      "outputs": [
        {
          "output_type": "execute_result",
          "data": {
            "text/plain": [
              "27749"
            ]
          },
          "metadata": {
            "tags": []
          },
          "execution_count": 45
        }
      ]
    },
    {
      "cell_type": "code",
      "metadata": {
        "colab": {
          "base_uri": "https://localhost:8080/"
        },
        "id": "vbp0Yp1rcLUL",
        "outputId": "2f2bc337-1731-43c7-d39a-304e27acd1aa"
      },
      "source": [
        "diamonds.price.idxmin()"
      ],
      "execution_count": 47,
      "outputs": [
        {
          "output_type": "execute_result",
          "data": {
            "text/plain": [
              "0"
            ]
          },
          "metadata": {
            "tags": []
          },
          "execution_count": 47
        }
      ]
    },
    {
      "cell_type": "markdown",
      "metadata": {
        "id": "8NDFLix9dmv4"
      },
      "source": [
        "# value_counts & dropna = False"
      ]
    },
    {
      "cell_type": "code",
      "metadata": {
        "colab": {
          "base_uri": "https://localhost:8080/"
        },
        "id": "C-9CUHHfcLQ8",
        "outputId": "d5a4a50b-67aa-4cdb-89ef-0fac7dbb3d09"
      },
      "source": [
        "diamonds[\"color\"].value_counts(dropna=False, normalize=True)"
      ],
      "execution_count": 50,
      "outputs": [
        {
          "output_type": "execute_result",
          "data": {
            "text/plain": [
              "G    0.20934\n",
              "E    0.18163\n",
              "F    0.17690\n",
              "H    0.15395\n",
              "D    0.12560\n",
              "I    0.10052\n",
              "J    0.05206\n",
              "Name: color, dtype: float64"
            ]
          },
          "metadata": {
            "tags": []
          },
          "execution_count": 50
        }
      ]
    },
    {
      "cell_type": "markdown",
      "metadata": {
        "id": "KzjFEwDfeAv1"
      },
      "source": [
        "# clip"
      ]
    },
    {
      "cell_type": "code",
      "metadata": {
        "colab": {
          "base_uri": "https://localhost:8080/",
          "height": 297
        },
        "id": "F3t3jVaAeVSr",
        "outputId": "98c93daf-8b96-413d-9bf6-9e5fdc3d2cb5"
      },
      "source": [
        "# Create sample data\n",
        "ages = pd.Series([55, 52, 50, 66, 57, 59, 49, 60]).to_frame(\"ages\")\n",
        "\n",
        "ages"
      ],
      "execution_count": 52,
      "outputs": [
        {
          "output_type": "execute_result",
          "data": {
            "text/html": [
              "<div>\n",
              "<style scoped>\n",
              "    .dataframe tbody tr th:only-of-type {\n",
              "        vertical-align: middle;\n",
              "    }\n",
              "\n",
              "    .dataframe tbody tr th {\n",
              "        vertical-align: top;\n",
              "    }\n",
              "\n",
              "    .dataframe thead th {\n",
              "        text-align: right;\n",
              "    }\n",
              "</style>\n",
              "<table border=\"1\" class=\"dataframe\">\n",
              "  <thead>\n",
              "    <tr style=\"text-align: right;\">\n",
              "      <th></th>\n",
              "      <th>ages</th>\n",
              "    </tr>\n",
              "  </thead>\n",
              "  <tbody>\n",
              "    <tr>\n",
              "      <th>0</th>\n",
              "      <td>55</td>\n",
              "    </tr>\n",
              "    <tr>\n",
              "      <th>1</th>\n",
              "      <td>52</td>\n",
              "    </tr>\n",
              "    <tr>\n",
              "      <th>2</th>\n",
              "      <td>50</td>\n",
              "    </tr>\n",
              "    <tr>\n",
              "      <th>3</th>\n",
              "      <td>66</td>\n",
              "    </tr>\n",
              "    <tr>\n",
              "      <th>4</th>\n",
              "      <td>57</td>\n",
              "    </tr>\n",
              "    <tr>\n",
              "      <th>5</th>\n",
              "      <td>59</td>\n",
              "    </tr>\n",
              "    <tr>\n",
              "      <th>6</th>\n",
              "      <td>49</td>\n",
              "    </tr>\n",
              "    <tr>\n",
              "      <th>7</th>\n",
              "      <td>60</td>\n",
              "    </tr>\n",
              "  </tbody>\n",
              "</table>\n",
              "</div>"
            ],
            "text/plain": [
              "   ages\n",
              "0    55\n",
              "1    52\n",
              "2    50\n",
              "3    66\n",
              "4    57\n",
              "5    59\n",
              "6    49\n",
              "7    60"
            ]
          },
          "metadata": {
            "tags": []
          },
          "execution_count": 52
        }
      ]
    },
    {
      "cell_type": "code",
      "metadata": {
        "colab": {
          "base_uri": "https://localhost:8080/",
          "height": 297
        },
        "id": "2qUN4-iPcLPE",
        "outputId": "4179487a-3693-4067-ab6a-67d7e049fd3c"
      },
      "source": [
        "ages.clip(50, 60)"
      ],
      "execution_count": 54,
      "outputs": [
        {
          "output_type": "execute_result",
          "data": {
            "text/html": [
              "<div>\n",
              "<style scoped>\n",
              "    .dataframe tbody tr th:only-of-type {\n",
              "        vertical-align: middle;\n",
              "    }\n",
              "\n",
              "    .dataframe tbody tr th {\n",
              "        vertical-align: top;\n",
              "    }\n",
              "\n",
              "    .dataframe thead th {\n",
              "        text-align: right;\n",
              "    }\n",
              "</style>\n",
              "<table border=\"1\" class=\"dataframe\">\n",
              "  <thead>\n",
              "    <tr style=\"text-align: right;\">\n",
              "      <th></th>\n",
              "      <th>ages</th>\n",
              "    </tr>\n",
              "  </thead>\n",
              "  <tbody>\n",
              "    <tr>\n",
              "      <th>0</th>\n",
              "      <td>55</td>\n",
              "    </tr>\n",
              "    <tr>\n",
              "      <th>1</th>\n",
              "      <td>52</td>\n",
              "    </tr>\n",
              "    <tr>\n",
              "      <th>2</th>\n",
              "      <td>50</td>\n",
              "    </tr>\n",
              "    <tr>\n",
              "      <th>3</th>\n",
              "      <td>60</td>\n",
              "    </tr>\n",
              "    <tr>\n",
              "      <th>4</th>\n",
              "      <td>57</td>\n",
              "    </tr>\n",
              "    <tr>\n",
              "      <th>5</th>\n",
              "      <td>59</td>\n",
              "    </tr>\n",
              "    <tr>\n",
              "      <th>6</th>\n",
              "      <td>50</td>\n",
              "    </tr>\n",
              "    <tr>\n",
              "      <th>7</th>\n",
              "      <td>60</td>\n",
              "    </tr>\n",
              "  </tbody>\n",
              "</table>\n",
              "</div>"
            ],
            "text/plain": [
              "   ages\n",
              "0    55\n",
              "1    52\n",
              "2    50\n",
              "3    60\n",
              "4    57\n",
              "5    59\n",
              "6    50\n",
              "7    60"
            ]
          },
          "metadata": {
            "tags": []
          },
          "execution_count": 54
        }
      ]
    },
    {
      "cell_type": "markdown",
      "metadata": {
        "id": "2OBUNZsPeapJ"
      },
      "source": [
        "# at_time & between_time"
      ]
    },
    {
      "cell_type": "code",
      "metadata": {
        "colab": {
          "base_uri": "https://localhost:8080/",
          "height": 204
        },
        "id": "TOAc2pTdeaB1",
        "outputId": "53b676c6-6462-46c3-a416-fa959c091a72"
      },
      "source": [
        "index = pd.date_range(\"2021-08-01\", periods=100, freq=\"H\")\n",
        "data = pd.DataFrame({\"col\": list(range(100))}, index=index)\n",
        "\n",
        "data.head()"
      ],
      "execution_count": 56,
      "outputs": [
        {
          "output_type": "execute_result",
          "data": {
            "text/html": [
              "<div>\n",
              "<style scoped>\n",
              "    .dataframe tbody tr th:only-of-type {\n",
              "        vertical-align: middle;\n",
              "    }\n",
              "\n",
              "    .dataframe tbody tr th {\n",
              "        vertical-align: top;\n",
              "    }\n",
              "\n",
              "    .dataframe thead th {\n",
              "        text-align: right;\n",
              "    }\n",
              "</style>\n",
              "<table border=\"1\" class=\"dataframe\">\n",
              "  <thead>\n",
              "    <tr style=\"text-align: right;\">\n",
              "      <th></th>\n",
              "      <th>col</th>\n",
              "    </tr>\n",
              "  </thead>\n",
              "  <tbody>\n",
              "    <tr>\n",
              "      <th>2021-08-01 00:00:00</th>\n",
              "      <td>0</td>\n",
              "    </tr>\n",
              "    <tr>\n",
              "      <th>2021-08-01 01:00:00</th>\n",
              "      <td>1</td>\n",
              "    </tr>\n",
              "    <tr>\n",
              "      <th>2021-08-01 02:00:00</th>\n",
              "      <td>2</td>\n",
              "    </tr>\n",
              "    <tr>\n",
              "      <th>2021-08-01 03:00:00</th>\n",
              "      <td>3</td>\n",
              "    </tr>\n",
              "    <tr>\n",
              "      <th>2021-08-01 04:00:00</th>\n",
              "      <td>4</td>\n",
              "    </tr>\n",
              "  </tbody>\n",
              "</table>\n",
              "</div>"
            ],
            "text/plain": [
              "                     col\n",
              "2021-08-01 00:00:00    0\n",
              "2021-08-01 01:00:00    1\n",
              "2021-08-01 02:00:00    2\n",
              "2021-08-01 03:00:00    3\n",
              "2021-08-01 04:00:00    4"
            ]
          },
          "metadata": {
            "tags": []
          },
          "execution_count": 56
        }
      ]
    },
    {
      "cell_type": "code",
      "metadata": {
        "colab": {
          "base_uri": "https://localhost:8080/",
          "height": 173
        },
        "id": "tqaOC7ZXcLIK",
        "outputId": "afb26cdc-55d3-415d-cefe-5712bb54c965"
      },
      "source": [
        "data.at_time(\"15:00\")"
      ],
      "execution_count": 57,
      "outputs": [
        {
          "output_type": "execute_result",
          "data": {
            "text/html": [
              "<div>\n",
              "<style scoped>\n",
              "    .dataframe tbody tr th:only-of-type {\n",
              "        vertical-align: middle;\n",
              "    }\n",
              "\n",
              "    .dataframe tbody tr th {\n",
              "        vertical-align: top;\n",
              "    }\n",
              "\n",
              "    .dataframe thead th {\n",
              "        text-align: right;\n",
              "    }\n",
              "</style>\n",
              "<table border=\"1\" class=\"dataframe\">\n",
              "  <thead>\n",
              "    <tr style=\"text-align: right;\">\n",
              "      <th></th>\n",
              "      <th>col</th>\n",
              "    </tr>\n",
              "  </thead>\n",
              "  <tbody>\n",
              "    <tr>\n",
              "      <th>2021-08-01 15:00:00</th>\n",
              "      <td>15</td>\n",
              "    </tr>\n",
              "    <tr>\n",
              "      <th>2021-08-02 15:00:00</th>\n",
              "      <td>39</td>\n",
              "    </tr>\n",
              "    <tr>\n",
              "      <th>2021-08-03 15:00:00</th>\n",
              "      <td>63</td>\n",
              "    </tr>\n",
              "    <tr>\n",
              "      <th>2021-08-04 15:00:00</th>\n",
              "      <td>87</td>\n",
              "    </tr>\n",
              "  </tbody>\n",
              "</table>\n",
              "</div>"
            ],
            "text/plain": [
              "                     col\n",
              "2021-08-01 15:00:00   15\n",
              "2021-08-02 15:00:00   39\n",
              "2021-08-03 15:00:00   63\n",
              "2021-08-04 15:00:00   87"
            ]
          },
          "metadata": {
            "tags": []
          },
          "execution_count": 57
        }
      ]
    },
    {
      "cell_type": "code",
      "metadata": {
        "colab": {
          "base_uri": "https://localhost:8080/",
          "height": 421
        },
        "id": "NsICwkLKcLEB",
        "outputId": "f84e8a0d-cb4c-4eed-d166-8a8ec8d8e576"
      },
      "source": [
        "data.between_time(\"09:45\", \"12:00\")"
      ],
      "execution_count": 58,
      "outputs": [
        {
          "output_type": "execute_result",
          "data": {
            "text/html": [
              "<div>\n",
              "<style scoped>\n",
              "    .dataframe tbody tr th:only-of-type {\n",
              "        vertical-align: middle;\n",
              "    }\n",
              "\n",
              "    .dataframe tbody tr th {\n",
              "        vertical-align: top;\n",
              "    }\n",
              "\n",
              "    .dataframe thead th {\n",
              "        text-align: right;\n",
              "    }\n",
              "</style>\n",
              "<table border=\"1\" class=\"dataframe\">\n",
              "  <thead>\n",
              "    <tr style=\"text-align: right;\">\n",
              "      <th></th>\n",
              "      <th>col</th>\n",
              "    </tr>\n",
              "  </thead>\n",
              "  <tbody>\n",
              "    <tr>\n",
              "      <th>2021-08-01 10:00:00</th>\n",
              "      <td>10</td>\n",
              "    </tr>\n",
              "    <tr>\n",
              "      <th>2021-08-01 11:00:00</th>\n",
              "      <td>11</td>\n",
              "    </tr>\n",
              "    <tr>\n",
              "      <th>2021-08-01 12:00:00</th>\n",
              "      <td>12</td>\n",
              "    </tr>\n",
              "    <tr>\n",
              "      <th>2021-08-02 10:00:00</th>\n",
              "      <td>34</td>\n",
              "    </tr>\n",
              "    <tr>\n",
              "      <th>2021-08-02 11:00:00</th>\n",
              "      <td>35</td>\n",
              "    </tr>\n",
              "    <tr>\n",
              "      <th>2021-08-02 12:00:00</th>\n",
              "      <td>36</td>\n",
              "    </tr>\n",
              "    <tr>\n",
              "      <th>2021-08-03 10:00:00</th>\n",
              "      <td>58</td>\n",
              "    </tr>\n",
              "    <tr>\n",
              "      <th>2021-08-03 11:00:00</th>\n",
              "      <td>59</td>\n",
              "    </tr>\n",
              "    <tr>\n",
              "      <th>2021-08-03 12:00:00</th>\n",
              "      <td>60</td>\n",
              "    </tr>\n",
              "    <tr>\n",
              "      <th>2021-08-04 10:00:00</th>\n",
              "      <td>82</td>\n",
              "    </tr>\n",
              "    <tr>\n",
              "      <th>2021-08-04 11:00:00</th>\n",
              "      <td>83</td>\n",
              "    </tr>\n",
              "    <tr>\n",
              "      <th>2021-08-04 12:00:00</th>\n",
              "      <td>84</td>\n",
              "    </tr>\n",
              "  </tbody>\n",
              "</table>\n",
              "</div>"
            ],
            "text/plain": [
              "                     col\n",
              "2021-08-01 10:00:00   10\n",
              "2021-08-01 11:00:00   11\n",
              "2021-08-01 12:00:00   12\n",
              "2021-08-02 10:00:00   34\n",
              "2021-08-02 11:00:00   35\n",
              "2021-08-02 12:00:00   36\n",
              "2021-08-03 10:00:00   58\n",
              "2021-08-03 11:00:00   59\n",
              "2021-08-03 12:00:00   60\n",
              "2021-08-04 10:00:00   82\n",
              "2021-08-04 11:00:00   83\n",
              "2021-08-04 12:00:00   84"
            ]
          },
          "metadata": {
            "tags": []
          },
          "execution_count": 58
        }
      ]
    },
    {
      "cell_type": "markdown",
      "metadata": {
        "id": "NzcR4P4-g409"
      },
      "source": [
        "# bdate_range"
      ]
    },
    {
      "cell_type": "code",
      "metadata": {
        "id": "U4_O6oPIg4Zd"
      },
      "source": [
        "series = pd.bdate_range(\"2021-01-01\", \"2021-01-31\")  # A period of one month"
      ],
      "execution_count": 59,
      "outputs": []
    },
    {
      "cell_type": "code",
      "metadata": {
        "colab": {
          "base_uri": "https://localhost:8080/"
        },
        "id": "1JaOKluBcLBF",
        "outputId": "90ea3237-ab35-4d3d-fe88-0238e41c7a29"
      },
      "source": [
        "len(series)"
      ],
      "execution_count": 60,
      "outputs": [
        {
          "output_type": "execute_result",
          "data": {
            "text/plain": [
              "21"
            ]
          },
          "metadata": {
            "tags": []
          },
          "execution_count": 60
        }
      ]
    },
    {
      "cell_type": "code",
      "metadata": {
        "colab": {
          "base_uri": "https://localhost:8080/"
        },
        "id": "LV7-qydYcKjl",
        "outputId": "17c88b19-fc69-4b03-9cd6-0f9e67daa74e"
      },
      "source": [
        "series"
      ],
      "execution_count": 61,
      "outputs": [
        {
          "output_type": "execute_result",
          "data": {
            "text/plain": [
              "DatetimeIndex(['2021-01-01', '2021-01-04', '2021-01-05', '2021-01-06',\n",
              "               '2021-01-07', '2021-01-08', '2021-01-11', '2021-01-12',\n",
              "               '2021-01-13', '2021-01-14', '2021-01-15', '2021-01-18',\n",
              "               '2021-01-19', '2021-01-20', '2021-01-21', '2021-01-22',\n",
              "               '2021-01-25', '2021-01-26', '2021-01-27', '2021-01-28',\n",
              "               '2021-01-29'],\n",
              "              dtype='datetime64[ns]', freq='B')"
            ]
          },
          "metadata": {
            "tags": []
          },
          "execution_count": 61
        }
      ]
    },
    {
      "cell_type": "markdown",
      "metadata": {
        "id": "OhkQF4ZBhNAs"
      },
      "source": [
        "# autocorr"
      ]
    },
    {
      "cell_type": "code",
      "metadata": {
        "colab": {
          "base_uri": "https://localhost:8080/"
        },
        "id": "SG5WapVocKiN",
        "outputId": "486ac142-c3fc-4b21-c472-62b1fd2a21e7"
      },
      "source": [
        "time_series = tips[[\"tip\"]]\n",
        "time_series[\"lag_1\"] = time_series[\"tip\"].shift(1)\n",
        "time_series[\"lag_2\"] = time_series[\"tip\"].shift(2)\n",
        "time_series[\"lag_3\"] = time_series[\"tip\"].shift(3)\n",
        "time_series[\"lag_4\"] = time_series[\"tip\"].shift(4)\n",
        "# time_series['lag_k'] = time_series['tip'].shift(k)"
      ],
      "execution_count": 62,
      "outputs": [
        {
          "output_type": "stream",
          "text": [
            "/usr/local/lib/python3.7/dist-packages/ipykernel_launcher.py:2: SettingWithCopyWarning: \n",
            "A value is trying to be set on a copy of a slice from a DataFrame.\n",
            "Try using .loc[row_indexer,col_indexer] = value instead\n",
            "\n",
            "See the caveats in the documentation: https://pandas.pydata.org/pandas-docs/stable/user_guide/indexing.html#returning-a-view-versus-a-copy\n",
            "  \n",
            "/usr/local/lib/python3.7/dist-packages/ipykernel_launcher.py:3: SettingWithCopyWarning: \n",
            "A value is trying to be set on a copy of a slice from a DataFrame.\n",
            "Try using .loc[row_indexer,col_indexer] = value instead\n",
            "\n",
            "See the caveats in the documentation: https://pandas.pydata.org/pandas-docs/stable/user_guide/indexing.html#returning-a-view-versus-a-copy\n",
            "  This is separate from the ipykernel package so we can avoid doing imports until\n",
            "/usr/local/lib/python3.7/dist-packages/ipykernel_launcher.py:4: SettingWithCopyWarning: \n",
            "A value is trying to be set on a copy of a slice from a DataFrame.\n",
            "Try using .loc[row_indexer,col_indexer] = value instead\n",
            "\n",
            "See the caveats in the documentation: https://pandas.pydata.org/pandas-docs/stable/user_guide/indexing.html#returning-a-view-versus-a-copy\n",
            "  after removing the cwd from sys.path.\n",
            "/usr/local/lib/python3.7/dist-packages/ipykernel_launcher.py:5: SettingWithCopyWarning: \n",
            "A value is trying to be set on a copy of a slice from a DataFrame.\n",
            "Try using .loc[row_indexer,col_indexer] = value instead\n",
            "\n",
            "See the caveats in the documentation: https://pandas.pydata.org/pandas-docs/stable/user_guide/indexing.html#returning-a-view-versus-a-copy\n",
            "  \"\"\"\n"
          ],
          "name": "stderr"
        }
      ]
    },
    {
      "cell_type": "code",
      "metadata": {
        "colab": {
          "base_uri": "https://localhost:8080/",
          "height": 204
        },
        "id": "xdGUcqYscKXH",
        "outputId": "1d8cecc5-547a-4b5c-b8f5-55df9a483bc8"
      },
      "source": [
        "time_series.head()"
      ],
      "execution_count": 63,
      "outputs": [
        {
          "output_type": "execute_result",
          "data": {
            "text/html": [
              "<div>\n",
              "<style scoped>\n",
              "    .dataframe tbody tr th:only-of-type {\n",
              "        vertical-align: middle;\n",
              "    }\n",
              "\n",
              "    .dataframe tbody tr th {\n",
              "        vertical-align: top;\n",
              "    }\n",
              "\n",
              "    .dataframe thead th {\n",
              "        text-align: right;\n",
              "    }\n",
              "</style>\n",
              "<table border=\"1\" class=\"dataframe\">\n",
              "  <thead>\n",
              "    <tr style=\"text-align: right;\">\n",
              "      <th></th>\n",
              "      <th>tip</th>\n",
              "      <th>lag_1</th>\n",
              "      <th>lag_2</th>\n",
              "      <th>lag_3</th>\n",
              "      <th>lag_4</th>\n",
              "    </tr>\n",
              "  </thead>\n",
              "  <tbody>\n",
              "    <tr>\n",
              "      <th>0</th>\n",
              "      <td>1.01</td>\n",
              "      <td>NaN</td>\n",
              "      <td>NaN</td>\n",
              "      <td>NaN</td>\n",
              "      <td>NaN</td>\n",
              "    </tr>\n",
              "    <tr>\n",
              "      <th>1</th>\n",
              "      <td>1.66</td>\n",
              "      <td>1.01</td>\n",
              "      <td>NaN</td>\n",
              "      <td>NaN</td>\n",
              "      <td>NaN</td>\n",
              "    </tr>\n",
              "    <tr>\n",
              "      <th>2</th>\n",
              "      <td>3.50</td>\n",
              "      <td>1.66</td>\n",
              "      <td>1.01</td>\n",
              "      <td>NaN</td>\n",
              "      <td>NaN</td>\n",
              "    </tr>\n",
              "    <tr>\n",
              "      <th>3</th>\n",
              "      <td>3.31</td>\n",
              "      <td>3.50</td>\n",
              "      <td>1.66</td>\n",
              "      <td>1.01</td>\n",
              "      <td>NaN</td>\n",
              "    </tr>\n",
              "    <tr>\n",
              "      <th>4</th>\n",
              "      <td>3.61</td>\n",
              "      <td>3.31</td>\n",
              "      <td>3.50</td>\n",
              "      <td>1.66</td>\n",
              "      <td>1.01</td>\n",
              "    </tr>\n",
              "  </tbody>\n",
              "</table>\n",
              "</div>"
            ],
            "text/plain": [
              "    tip  lag_1  lag_2  lag_3  lag_4\n",
              "0  1.01    NaN    NaN    NaN    NaN\n",
              "1  1.66   1.01    NaN    NaN    NaN\n",
              "2  3.50   1.66   1.01    NaN    NaN\n",
              "3  3.31   3.50   1.66   1.01    NaN\n",
              "4  3.61   3.31   3.50   1.66   1.01"
            ]
          },
          "metadata": {
            "tags": []
          },
          "execution_count": 63
        }
      ]
    },
    {
      "cell_type": "code",
      "metadata": {
        "colab": {
          "base_uri": "https://localhost:8080/"
        },
        "id": "NtGxdIKZcJsw",
        "outputId": "5ed222ed-83ef-441e-a10b-2111ce887b4d"
      },
      "source": [
        "time_series[\"tip\"].autocorr(lag=8)"
      ],
      "execution_count": 64,
      "outputs": [
        {
          "output_type": "execute_result",
          "data": {
            "text/plain": [
              "0.07475238789967077"
            ]
          },
          "metadata": {
            "tags": []
          },
          "execution_count": 64
        }
      ]
    },
    {
      "cell_type": "markdown",
      "metadata": {
        "id": "BrcRbSt6hxz1"
      },
      "source": [
        "# hasnans"
      ]
    },
    {
      "cell_type": "code",
      "metadata": {
        "colab": {
          "base_uri": "https://localhost:8080/"
        },
        "id": "EDKHjg4MhvQu",
        "outputId": "c3eabcb1-2d16-40da-bad9-94604448d2f7"
      },
      "source": [
        "series = pd.Series([2, 4, 6, \"sadf\", np.nan])\n",
        "\n",
        "series.hasnans"
      ],
      "execution_count": 65,
      "outputs": [
        {
          "output_type": "execute_result",
          "data": {
            "text/plain": [
              "True"
            ]
          },
          "metadata": {
            "tags": []
          },
          "execution_count": 65
        }
      ]
    },
    {
      "cell_type": "markdown",
      "metadata": {
        "id": "-H5CdpA_iB6S"
      },
      "source": [
        "# at and iat"
      ]
    },
    {
      "cell_type": "code",
      "metadata": {
        "colab": {
          "base_uri": "https://localhost:8080/",
          "height": 35
        },
        "id": "1mA-VrzhhvOE",
        "outputId": "d9242346-1141-4e44-bf4a-c8e4dfaa0686"
      },
      "source": [
        "# [index, label]\n",
        "diamonds.at[234, \"cut\"]"
      ],
      "execution_count": 66,
      "outputs": [
        {
          "output_type": "execute_result",
          "data": {
            "application/vnd.google.colaboratory.intrinsic+json": {
              "type": "string"
            },
            "text/plain": [
              "'Ideal'"
            ]
          },
          "metadata": {
            "tags": []
          },
          "execution_count": 66
        }
      ]
    },
    {
      "cell_type": "code",
      "metadata": {
        "colab": {
          "base_uri": "https://localhost:8080/"
        },
        "id": "RfK9YpklhvKx",
        "outputId": "88250eba-92c7-403f-f27c-f174304d0632"
      },
      "source": [
        "diamonds.iat[1564, 4]"
      ],
      "execution_count": 67,
      "outputs": [
        {
          "output_type": "execute_result",
          "data": {
            "text/plain": [
              "61.2"
            ]
          },
          "metadata": {
            "tags": []
          },
          "execution_count": 67
        }
      ]
    },
    {
      "cell_type": "code",
      "metadata": {
        "id": "nu0jm8mKhvHA"
      },
      "source": [
        "diamonds.at[16541, \"price\"] = 10000"
      ],
      "execution_count": 68,
      "outputs": []
    },
    {
      "cell_type": "markdown",
      "metadata": {
        "id": "08vygCzKiT98"
      },
      "source": [
        "# argsort\n",
        "\n",
        "得到sort之后的indices"
      ]
    },
    {
      "cell_type": "code",
      "metadata": {
        "colab": {
          "base_uri": "https://localhost:8080/",
          "height": 204
        },
        "id": "ifsxyxi5hvE9",
        "outputId": "0869b69b-4fcb-474f-f0f7-d712beb8052b"
      },
      "source": [
        "tips.reset_index(inplace=True, drop=True)\n",
        "\n",
        "sort_idx = tips[\"total_bill\"].argsort(kind=\"mergesort\")\n",
        "\n",
        "# Now, sort `tips` based on total_bill\n",
        "tips.iloc[sort_idx].head()"
      ],
      "execution_count": 69,
      "outputs": [
        {
          "output_type": "execute_result",
          "data": {
            "text/html": [
              "<div>\n",
              "<style scoped>\n",
              "    .dataframe tbody tr th:only-of-type {\n",
              "        vertical-align: middle;\n",
              "    }\n",
              "\n",
              "    .dataframe tbody tr th {\n",
              "        vertical-align: top;\n",
              "    }\n",
              "\n",
              "    .dataframe thead th {\n",
              "        text-align: right;\n",
              "    }\n",
              "</style>\n",
              "<table border=\"1\" class=\"dataframe\">\n",
              "  <thead>\n",
              "    <tr style=\"text-align: right;\">\n",
              "      <th></th>\n",
              "      <th>total_bill</th>\n",
              "      <th>tip</th>\n",
              "      <th>sex</th>\n",
              "      <th>smoker</th>\n",
              "      <th>day</th>\n",
              "      <th>time</th>\n",
              "      <th>size</th>\n",
              "    </tr>\n",
              "  </thead>\n",
              "  <tbody>\n",
              "    <tr>\n",
              "      <th>67</th>\n",
              "      <td>3.07</td>\n",
              "      <td>1.00</td>\n",
              "      <td>Female</td>\n",
              "      <td>Yes</td>\n",
              "      <td>Sat</td>\n",
              "      <td>Dinner</td>\n",
              "      <td>1</td>\n",
              "    </tr>\n",
              "    <tr>\n",
              "      <th>92</th>\n",
              "      <td>5.75</td>\n",
              "      <td>1.00</td>\n",
              "      <td>Female</td>\n",
              "      <td>Yes</td>\n",
              "      <td>Fri</td>\n",
              "      <td>Dinner</td>\n",
              "      <td>2</td>\n",
              "    </tr>\n",
              "    <tr>\n",
              "      <th>111</th>\n",
              "      <td>7.25</td>\n",
              "      <td>1.00</td>\n",
              "      <td>Female</td>\n",
              "      <td>No</td>\n",
              "      <td>Sat</td>\n",
              "      <td>Dinner</td>\n",
              "      <td>1</td>\n",
              "    </tr>\n",
              "    <tr>\n",
              "      <th>172</th>\n",
              "      <td>7.25</td>\n",
              "      <td>5.15</td>\n",
              "      <td>Male</td>\n",
              "      <td>Yes</td>\n",
              "      <td>Sun</td>\n",
              "      <td>Dinner</td>\n",
              "      <td>2</td>\n",
              "    </tr>\n",
              "    <tr>\n",
              "      <th>149</th>\n",
              "      <td>7.51</td>\n",
              "      <td>2.00</td>\n",
              "      <td>Male</td>\n",
              "      <td>No</td>\n",
              "      <td>Thur</td>\n",
              "      <td>Lunch</td>\n",
              "      <td>2</td>\n",
              "    </tr>\n",
              "  </tbody>\n",
              "</table>\n",
              "</div>"
            ],
            "text/plain": [
              "     total_bill   tip     sex smoker   day    time  size\n",
              "67         3.07  1.00  Female    Yes   Sat  Dinner     1\n",
              "92         5.75  1.00  Female    Yes   Fri  Dinner     2\n",
              "111        7.25  1.00  Female     No   Sat  Dinner     1\n",
              "172        7.25  5.15    Male    Yes   Sun  Dinner     2\n",
              "149        7.51  2.00    Male     No  Thur   Lunch     2"
            ]
          },
          "metadata": {
            "tags": []
          },
          "execution_count": 69
        }
      ]
    },
    {
      "cell_type": "code",
      "metadata": {
        "colab": {
          "base_uri": "https://localhost:8080/"
        },
        "id": "Id7pD6sdhu_y",
        "outputId": "604e3fc7-6997-4aba-9619-c89cd942ebe9"
      },
      "source": [
        "sort_idx"
      ],
      "execution_count": 70,
      "outputs": [
        {
          "output_type": "execute_result",
          "data": {
            "text/plain": [
              "0       67\n",
              "1       92\n",
              "2      111\n",
              "3      172\n",
              "4      149\n",
              "      ... \n",
              "239    182\n",
              "240    156\n",
              "241     59\n",
              "242    212\n",
              "243    170\n",
              "Name: total_bill, Length: 244, dtype: int64"
            ]
          },
          "metadata": {
            "tags": []
          },
          "execution_count": 70
        }
      ]
    },
    {
      "cell_type": "markdown",
      "metadata": {
        "id": "29UIFH_bjXuO"
      },
      "source": [
        "# cat"
      ]
    },
    {
      "cell_type": "code",
      "metadata": {
        "colab": {
          "base_uri": "https://localhost:8080/"
        },
        "id": "C7d-Rvruhu-S",
        "outputId": "396a0317-7e01-4463-eb6b-828bed9b53d9"
      },
      "source": [
        "diamonds.dtypes"
      ],
      "execution_count": 71,
      "outputs": [
        {
          "output_type": "execute_result",
          "data": {
            "text/plain": [
              "carat       float64\n",
              "cut        category\n",
              "color      category\n",
              "clarity    category\n",
              "depth       float64\n",
              "table       float64\n",
              "price         int64\n",
              "x           float64\n",
              "y           float64\n",
              "z           float64\n",
              "cut_enc       int64\n",
              "dtype: object"
            ]
          },
          "metadata": {
            "tags": []
          },
          "execution_count": 71
        }
      ]
    },
    {
      "cell_type": "code",
      "metadata": {
        "colab": {
          "base_uri": "https://localhost:8080/"
        },
        "id": "yvS76Ir-hsuz",
        "outputId": "09b6e511-9d8f-4cd9-c622-64ac67861010"
      },
      "source": [
        "diamonds[\"cut\"].cat.categories"
      ],
      "execution_count": 74,
      "outputs": [
        {
          "output_type": "execute_result",
          "data": {
            "text/plain": [
              "<pandas.core.arrays.categorical.CategoricalAccessor object at 0x7f1b76221b90>"
            ]
          },
          "metadata": {
            "tags": []
          },
          "execution_count": 74
        }
      ]
    },
    {
      "cell_type": "code",
      "metadata": {
        "id": "DrOFYpnKhsrk"
      },
      "source": [
        "diamonds[\"new_cuts\"] = diamonds[\"cut\"].cat.rename_categories(list(\"ABCDE\"))"
      ],
      "execution_count": 75,
      "outputs": []
    },
    {
      "cell_type": "code",
      "metadata": {
        "colab": {
          "base_uri": "https://localhost:8080/"
        },
        "id": "H1s6YYEChsoW",
        "outputId": "82ddea43-ae45-437d-8089-316affe0615f"
      },
      "source": [
        "diamonds[\"new_cuts\"].cat.categories"
      ],
      "execution_count": 76,
      "outputs": [
        {
          "output_type": "execute_result",
          "data": {
            "text/plain": [
              "Index(['A', 'B', 'C', 'D', 'E'], dtype='object')"
            ]
          },
          "metadata": {
            "tags": []
          },
          "execution_count": 76
        }
      ]
    },
    {
      "cell_type": "markdown",
      "metadata": {
        "id": "NkUyxSrAjg4b"
      },
      "source": [
        "# GroupBy.nth\n",
        "\n",
        "返回grouping之后，每个group的第n个row"
      ]
    },
    {
      "cell_type": "code",
      "metadata": {
        "colab": {
          "base_uri": "https://localhost:8080/",
          "height": 235
        },
        "id": "RKd0zcquhskJ",
        "outputId": "ccdaa056-b16c-48f2-f57d-e745318ecf91"
      },
      "source": [
        "diamonds.groupby(\"cut\").nth(5)"
      ],
      "execution_count": 77,
      "outputs": [
        {
          "output_type": "execute_result",
          "data": {
            "text/html": [
              "<div>\n",
              "<style scoped>\n",
              "    .dataframe tbody tr th:only-of-type {\n",
              "        vertical-align: middle;\n",
              "    }\n",
              "\n",
              "    .dataframe tbody tr th {\n",
              "        vertical-align: top;\n",
              "    }\n",
              "\n",
              "    .dataframe thead th {\n",
              "        text-align: right;\n",
              "    }\n",
              "</style>\n",
              "<table border=\"1\" class=\"dataframe\">\n",
              "  <thead>\n",
              "    <tr style=\"text-align: right;\">\n",
              "      <th></th>\n",
              "      <th>carat</th>\n",
              "      <th>color</th>\n",
              "      <th>clarity</th>\n",
              "      <th>depth</th>\n",
              "      <th>table</th>\n",
              "      <th>price</th>\n",
              "      <th>x</th>\n",
              "      <th>y</th>\n",
              "      <th>z</th>\n",
              "      <th>cut_enc</th>\n",
              "      <th>new_cuts</th>\n",
              "    </tr>\n",
              "    <tr>\n",
              "      <th>cut</th>\n",
              "      <th></th>\n",
              "      <th></th>\n",
              "      <th></th>\n",
              "      <th></th>\n",
              "      <th></th>\n",
              "      <th></th>\n",
              "      <th></th>\n",
              "      <th></th>\n",
              "      <th></th>\n",
              "      <th></th>\n",
              "      <th></th>\n",
              "    </tr>\n",
              "  </thead>\n",
              "  <tbody>\n",
              "    <tr>\n",
              "      <th>Ideal</th>\n",
              "      <td>0.33</td>\n",
              "      <td>I</td>\n",
              "      <td>SI2</td>\n",
              "      <td>61.2</td>\n",
              "      <td>56.0</td>\n",
              "      <td>403</td>\n",
              "      <td>4.49</td>\n",
              "      <td>4.50</td>\n",
              "      <td>2.75</td>\n",
              "      <td>0</td>\n",
              "      <td>A</td>\n",
              "    </tr>\n",
              "    <tr>\n",
              "      <th>Premium</th>\n",
              "      <td>0.24</td>\n",
              "      <td>I</td>\n",
              "      <td>VS1</td>\n",
              "      <td>62.5</td>\n",
              "      <td>57.0</td>\n",
              "      <td>355</td>\n",
              "      <td>3.97</td>\n",
              "      <td>3.94</td>\n",
              "      <td>2.47</td>\n",
              "      <td>1</td>\n",
              "      <td>B</td>\n",
              "    </tr>\n",
              "    <tr>\n",
              "      <th>Very Good</th>\n",
              "      <td>0.23</td>\n",
              "      <td>E</td>\n",
              "      <td>VS2</td>\n",
              "      <td>63.8</td>\n",
              "      <td>55.0</td>\n",
              "      <td>352</td>\n",
              "      <td>3.85</td>\n",
              "      <td>3.92</td>\n",
              "      <td>2.48</td>\n",
              "      <td>3</td>\n",
              "      <td>C</td>\n",
              "    </tr>\n",
              "    <tr>\n",
              "      <th>Good</th>\n",
              "      <td>0.30</td>\n",
              "      <td>I</td>\n",
              "      <td>SI2</td>\n",
              "      <td>63.3</td>\n",
              "      <td>56.0</td>\n",
              "      <td>351</td>\n",
              "      <td>4.26</td>\n",
              "      <td>4.30</td>\n",
              "      <td>2.71</td>\n",
              "      <td>2</td>\n",
              "      <td>D</td>\n",
              "    </tr>\n",
              "    <tr>\n",
              "      <th>Fair</th>\n",
              "      <td>0.91</td>\n",
              "      <td>H</td>\n",
              "      <td>SI2</td>\n",
              "      <td>64.4</td>\n",
              "      <td>57.0</td>\n",
              "      <td>2763</td>\n",
              "      <td>6.11</td>\n",
              "      <td>6.09</td>\n",
              "      <td>3.93</td>\n",
              "      <td>4</td>\n",
              "      <td>E</td>\n",
              "    </tr>\n",
              "  </tbody>\n",
              "</table>\n",
              "</div>"
            ],
            "text/plain": [
              "           carat color clarity  depth  table  price     x     y     z  \\\n",
              "cut                                                                     \n",
              "Ideal       0.33     I     SI2   61.2   56.0    403  4.49  4.50  2.75   \n",
              "Premium     0.24     I     VS1   62.5   57.0    355  3.97  3.94  2.47   \n",
              "Very Good   0.23     E     VS2   63.8   55.0    352  3.85  3.92  2.48   \n",
              "Good        0.30     I     SI2   63.3   56.0    351  4.26  4.30  2.71   \n",
              "Fair        0.91     H     SI2   64.4   57.0   2763  6.11  6.09  3.93   \n",
              "\n",
              "           cut_enc new_cuts  \n",
              "cut                          \n",
              "Ideal            0        A  \n",
              "Premium          1        B  \n",
              "Very Good        3        C  \n",
              "Good             2        D  \n",
              "Fair             4        E  "
            ]
          },
          "metadata": {
            "tags": []
          },
          "execution_count": 77
        }
      ]
    },
    {
      "cell_type": "code",
      "metadata": {
        "colab": {
          "base_uri": "https://localhost:8080/",
          "height": 235
        },
        "id": "HcJ9S9BQhshB",
        "outputId": "d3b70fc1-e26d-4b89-8088-0e40a110e0c5"
      },
      "source": [
        "diamonds.groupby(\"cut\").nth(1)"
      ],
      "execution_count": 78,
      "outputs": [
        {
          "output_type": "execute_result",
          "data": {
            "text/html": [
              "<div>\n",
              "<style scoped>\n",
              "    .dataframe tbody tr th:only-of-type {\n",
              "        vertical-align: middle;\n",
              "    }\n",
              "\n",
              "    .dataframe tbody tr th {\n",
              "        vertical-align: top;\n",
              "    }\n",
              "\n",
              "    .dataframe thead th {\n",
              "        text-align: right;\n",
              "    }\n",
              "</style>\n",
              "<table border=\"1\" class=\"dataframe\">\n",
              "  <thead>\n",
              "    <tr style=\"text-align: right;\">\n",
              "      <th></th>\n",
              "      <th>carat</th>\n",
              "      <th>color</th>\n",
              "      <th>clarity</th>\n",
              "      <th>depth</th>\n",
              "      <th>table</th>\n",
              "      <th>price</th>\n",
              "      <th>x</th>\n",
              "      <th>y</th>\n",
              "      <th>z</th>\n",
              "      <th>cut_enc</th>\n",
              "      <th>new_cuts</th>\n",
              "    </tr>\n",
              "    <tr>\n",
              "      <th>cut</th>\n",
              "      <th></th>\n",
              "      <th></th>\n",
              "      <th></th>\n",
              "      <th></th>\n",
              "      <th></th>\n",
              "      <th></th>\n",
              "      <th></th>\n",
              "      <th></th>\n",
              "      <th></th>\n",
              "      <th></th>\n",
              "      <th></th>\n",
              "    </tr>\n",
              "  </thead>\n",
              "  <tbody>\n",
              "    <tr>\n",
              "      <th>Ideal</th>\n",
              "      <td>0.23</td>\n",
              "      <td>J</td>\n",
              "      <td>VS1</td>\n",
              "      <td>62.8</td>\n",
              "      <td>56.0</td>\n",
              "      <td>340</td>\n",
              "      <td>3.93</td>\n",
              "      <td>3.90</td>\n",
              "      <td>2.46</td>\n",
              "      <td>0</td>\n",
              "      <td>A</td>\n",
              "    </tr>\n",
              "    <tr>\n",
              "      <th>Premium</th>\n",
              "      <td>0.29</td>\n",
              "      <td>I</td>\n",
              "      <td>VS2</td>\n",
              "      <td>62.4</td>\n",
              "      <td>58.0</td>\n",
              "      <td>334</td>\n",
              "      <td>4.20</td>\n",
              "      <td>4.23</td>\n",
              "      <td>2.63</td>\n",
              "      <td>1</td>\n",
              "      <td>B</td>\n",
              "    </tr>\n",
              "    <tr>\n",
              "      <th>Very Good</th>\n",
              "      <td>0.24</td>\n",
              "      <td>I</td>\n",
              "      <td>VVS1</td>\n",
              "      <td>62.3</td>\n",
              "      <td>57.0</td>\n",
              "      <td>336</td>\n",
              "      <td>3.95</td>\n",
              "      <td>3.98</td>\n",
              "      <td>2.47</td>\n",
              "      <td>3</td>\n",
              "      <td>C</td>\n",
              "    </tr>\n",
              "    <tr>\n",
              "      <th>Good</th>\n",
              "      <td>0.31</td>\n",
              "      <td>J</td>\n",
              "      <td>SI2</td>\n",
              "      <td>63.3</td>\n",
              "      <td>58.0</td>\n",
              "      <td>335</td>\n",
              "      <td>4.34</td>\n",
              "      <td>4.35</td>\n",
              "      <td>2.75</td>\n",
              "      <td>2</td>\n",
              "      <td>D</td>\n",
              "    </tr>\n",
              "    <tr>\n",
              "      <th>Fair</th>\n",
              "      <td>0.86</td>\n",
              "      <td>E</td>\n",
              "      <td>SI2</td>\n",
              "      <td>55.1</td>\n",
              "      <td>69.0</td>\n",
              "      <td>2757</td>\n",
              "      <td>6.45</td>\n",
              "      <td>6.33</td>\n",
              "      <td>3.52</td>\n",
              "      <td>4</td>\n",
              "      <td>E</td>\n",
              "    </tr>\n",
              "  </tbody>\n",
              "</table>\n",
              "</div>"
            ],
            "text/plain": [
              "           carat color clarity  depth  table  price     x     y     z  \\\n",
              "cut                                                                     \n",
              "Ideal       0.23     J     VS1   62.8   56.0    340  3.93  3.90  2.46   \n",
              "Premium     0.29     I     VS2   62.4   58.0    334  4.20  4.23  2.63   \n",
              "Very Good   0.24     I    VVS1   62.3   57.0    336  3.95  3.98  2.47   \n",
              "Good        0.31     J     SI2   63.3   58.0    335  4.34  4.35  2.75   \n",
              "Fair        0.86     E     SI2   55.1   69.0   2757  6.45  6.33  3.52   \n",
              "\n",
              "           cut_enc new_cuts  \n",
              "cut                          \n",
              "Ideal            0        A  \n",
              "Premium          1        B  \n",
              "Very Good        3        C  \n",
              "Good             2        D  \n",
              "Fair             4        E  "
            ]
          },
          "metadata": {
            "tags": []
          },
          "execution_count": 78
        }
      ]
    },
    {
      "cell_type": "code",
      "metadata": {
        "id": "4HEKzv8GCZqj"
      },
      "source": [
        ""
      ],
      "execution_count": null,
      "outputs": []
    }
  ]
}